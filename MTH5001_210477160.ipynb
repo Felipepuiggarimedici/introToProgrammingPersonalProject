{
 "cells": [
  {
   "cell_type": "markdown",
   "metadata": {},
   "source": [
    "# MTH5001:  Introduction to Computer Programming 2022/23\n",
    "\n",
    "## Final Report Project: \"Longest Increasing Subsequences\"\n",
    "\n",
    "<div class=\"alert alert-block alert-danger\">\n",
    "\n",
    "**IMPORTANT**: \n",
    "Start by filling in your 9 digit *student ID number* below. **DO IT NOW**. \n",
    "    \n",
    "Save this Jupyter Notebook with the name **MTH5001_ID.ipynb**, where instead of **ID** you write your *student ID number*.\n",
    "\n",
    "Please check very carefully that your *student ID number* is accurately typed everywhere. Otherwise your marks might go to the wrong person.\n",
    "\n",
    "Use the available cells to introduce the code. You can add additional cells if needed. explain your code as much as possible with `# comments` </div>"
   ]
  },
  {
   "attachments": {},
   "cell_type": "markdown",
   "metadata": {},
   "source": [
    "<div class=\"alert alert-block alert-warning\">\n",
    "\n",
    "### ID: 210477160\n",
    "\n",
    "<br />"
   ]
  },
  {
   "cell_type": "markdown",
   "metadata": {},
   "source": [
    "\n",
    "\n",
    "### Instructions:\n",
    "\n",
    "You must write your answers in this Jupyter Notebook, using either Markdown or Python code as appropriate. \n",
    "\n",
    "Your code must be **well documented**. As a rough guide, you should aim to include one line of comments for each line of code (but you may include more or fewer comments depending on the situation).\n",
    "\n",
    "The total number of marks available is 100. Attempt all parts of all questions.\n",
    "\n",
    "For this project, you are expected to write your code almost entirely 'from scratch', although you are allowed to use some specific packages like `numpy`, `matplotlib.pyplot`, etc.\n",
    "\n",
    "### Submission deadline:\n",
    "\n",
    "You must submit your work via QMPlus, to the \"Final Report Project\" assignment in the \"Final Report Project\" section under the \"Assessment\" tab.\n",
    "\n",
    "The submission deadline is **11:55pm on Thursday 4th of May, 2023**. *(May the 4th be with you!)* Late submissions will be penalised according to the School's [guidelines](https://qmplus.qmul.ac.uk/pluginfile.php/3467941/mod_resource/content/1/School%20of%20Mathematical%20Sciences%20UG%20Student%20Handbook%202022_23.pdf).\n",
    "\n",
    "Your lecturers will respond to project-related emails until 5:00pm on Tuesday 2 May, 2022, only. You should aim to have your project finished by this time.\n",
    "\n",
    "### Marking of projects:\n",
    "\n",
    "When writing up projects, good writing style is even more important than in written exams. According to the [advice](https://qmplus.qmul.ac.uk/pluginfile.php/3467941/mod_resource/content/1/School%20of%20Mathematical%20Sciences%20UG%20Student%20Handbook%202022_23.pdf) in the student handbook,\n",
    "\n",
    "> To get full marks in any assessed work (tests or exams) you must normally not only give the right answers but also explain your working clearly and give reasons for your answers by writing legible and grammatically correct English sentences. Mathematics is about logic and reasoned arguments and the only way to present a reasoned and logical argument is by writing about it clearly. Your writing may include numbers and other mathematical symbols, but they are not enough on their own. You should copy the writing style used in good mathematical textbooks, such as those recommended for your modules. **You can expect to lose marks for poor writing (incorrect grammar and spelling) as well as for poor mathematics (incorrect or unclear logic).**\n",
    "\n",
    "<div class=\"alert alert-block alert-danger\">\n",
    "    \n",
    "### Plagiarism warning:\n",
    "\n",
    "Your work will be tested for plagiarism, which is an assessment offence, according to the [School's policy on Plagiarism](https://qmplus.qmul.ac.uk/pluginfile.php/3467941/mod_resource/content/1/School%20of%20Mathematical%20Sciences%20UG%20Student%20Handbook%202022_23.pdf). In particular, while only academic staff will make a judgement on whether plagiarism has occurred in a piece of work, we will use the plagiarism detection software \"Turnitin\" to help us assess how much of work matches other sources. You will have the opportunity to upload your work, see the Turnitin result, and edit your work once accordingly before finalising your submission.\n",
    "\n",
    "\n",
    "However, you must use your own words as far as possible (within reason, e.g. you would not be expected to change the wording of a well-known theorem), and you **must** [reference](https://qmplus.qmul.ac.uk/pluginfile.php/3467941/mod_resource/content/1/School%20of%20Mathematical%20Sciences%20UG%20Student%20Handbook%202022_23.pdf) any sources that you use. You cannot communicate with other students on any part of the project. You should also note that some of the questions are personalised in the sense that you will need to import and manipulate data that will be unique to you (i.e. no other student will have the same data).\n",
    "\n",
    "\n",
    "\n",
    "\n",
    "\n"
   ]
  },
  {
   "cell_type": "markdown",
   "metadata": {},
   "source": [
    "---\n",
    "### Introduction to the Project\n",
    "\n",
    "Longest increasing subsequences appear in many areas across mathematics, computer science, and physics.\n",
    "This project will deal with algorithms for creating longest increasing subsequences of permutations of a set of $n$ numbers, their graphical representation, and some analysis of their structure with computational and graphical means.\n",
    "\n",
    "As Python indexing starts with zero, we will also start counting at zero and hence give the mathematical description in terms of the set of numbers $[n]=\\{0,1,\\ldots,n-1\\}$. \n",
    "\n",
    "For a given $n\\in\\mathbb N$, let $\\pi=(\\pi_0,\\pi_1,\\ldots,\\pi_{n-1})$ be a **permutation** of $[n]$, i.e., one of the $n!$ possible orderings of $[n]$.\n",
    "\n",
    "A sequence  $(\\pi_{i_0},\\pi_{i_1},\\ldots,\\pi_{i_{k-1}})$ is a **subsequence** of the permutation $\\pi$ if $0\\leq i_0<i_1<\\ldots<i_k<n$. \n",
    "\n",
    "A subsequence of the permutation $\\pi$ is **increasing** if $\\pi_{i_0}<\\pi_{i_1}<\\ldots<\\pi_{i_{k-1}}$. \n",
    "\n",
    "An increasing subsequence of the permutation $\\pi$ is **longest** if there is no other increasing subsequence with $k'>k$.\n",
    "\n",
    "For example, the increasing subsequences of the permutation $(0,2,1)$ are $()$, $(0)$, $(2)$, $(1)$, $(0,2)$, and $(0,1)$. Clearly $(0,2)$ and $(0,1)$ are longest, so the length of the longest increasing subsequence of $(0,2,1)$ is $2$. This example shows also that the longest increasing subsequence is not necessarily unique. "
   ]
  },
  {
   "cell_type": "markdown",
   "metadata": {},
   "source": [
    "---\n",
    "### Some code to get you started\n",
    "\n",
    "It is very easy to find code online to solve this problem. For example, the following function finds a longest increasing subsequence in a sequence of numbers:\n",
    "```python\n",
    "def find_length_of_longest_increasing_subsequence(pi):\n",
    "    n=len(pi) \n",
    "    l=n*[0]\n",
    "    for i in range(n):\n",
    "        for j in range(i):\n",
    "            if pi[j]<pi[i] and l[j]>l[i]:\n",
    "                l[i]=l[j]\n",
    "        l[i]=l[i]+1\n",
    "    return max(l+[0])\n",
    "```\n",
    "The same code in a codebox:"
   ]
  },
  {
   "cell_type": "code",
   "execution_count": null,
   "metadata": {},
   "outputs": [],
   "source": [
    "def find_length_of_longest_increasing_subsequence(pi):\n",
    "    n=len(pi) \n",
    "    l=n*[0]\n",
    "    for i in range(n):\n",
    "        for j in range(i):\n",
    "            if pi[j]<pi[i] and l[j]>l[i]:\n",
    "                l[i]=l[j]\n",
    "        l[i]=l[i]+1\n",
    "    return max(l + [0])"
   ]
  },
  {
   "cell_type": "markdown",
   "metadata": {},
   "source": [
    "Applied to the example $(0,2,1)$ above we indeed get the right result."
   ]
  },
  {
   "cell_type": "code",
   "execution_count": null,
   "metadata": {},
   "outputs": [],
   "source": [
    "pi=[0, 2, 1]\n",
    "print(pi,find_length_of_longest_increasing_subsequence(pi))"
   ]
  },
  {
   "cell_type": "markdown",
   "metadata": {},
   "source": [
    "Three obvious cases to check are:"
   ]
  },
  {
   "cell_type": "code",
   "execution_count": null,
   "metadata": {},
   "outputs": [],
   "source": [
    "pi=[]\n",
    "print(pi,find_length_of_longest_increasing_subsequence(pi))\n",
    "pi=list(range(6))\n",
    "print(pi,find_length_of_longest_increasing_subsequence(pi))\n",
    "pi=pi[::-1]\n",
    "print(pi,find_length_of_longest_increasing_subsequence(pi))"
   ]
  },
  {
   "attachments": {
    "image-3.png": {
     "image/png": "[encoded data removed]"
    }
   },
   "cell_type": "markdown",
   "metadata": {},
   "source": [
    "---\n",
    "### Plotting Permutations\n",
    "\n",
    "An easy way to visualise permutations is to consider them as $n$ points $(i,\\pi_i)$ on the $[n]^2$-grid. For example, the permutation $(3,1,6,4,9,7,8,2,0,5)$ is represented by the following picture, with the permutation shown in red and a longest increasing subsequence shown in blue (there are three others, can you find them?).\n",
    "![image-3.png](attachment:image-3.png)\n"
   ]
  },
  {
   "attachments": {},
   "cell_type": "markdown",
   "metadata": {},
   "source": [
    "---\n",
    "### The structure of the Project\n",
    "\n",
    "This project consists of **4 parts**. In each of the parts you will need to code up some specific functions, run some code, and respond to some questions. Recall that all code needs to be properly documented with `# comments`, and the explanations in these comments will indeed be assessed and you will receive lots of marks for adequate documentation. \n",
    "\n",
    "\n",
    "\n",
    "* The **first part** (worth 35 marks) asks you to explain given Python code to compute longest increasing subsequences and analyse its complexity.\n",
    "\n",
    "* The **second part** (worth 30 marks) asks you to write code to find all longest increasing subsequences.\n",
    "\n",
    "* The **third part** (worth 20 marks) asks you to analyse longest increasing subsequences for one specifically given permutation.\n",
    "\n",
    "* The **fourth part** (worth 15 marks) asks you to modify your code for a slight variation on the problem.\n",
    "---"
   ]
  },
  {
   "cell_type": "markdown",
   "metadata": {},
   "source": [
    "The following code box is used to load any necessary modules. \n",
    "\n",
    "**You may not import any other modules, except for the `project` module, which we introduce in Part 3.**"
   ]
  },
  {
   "cell_type": "code",
   "execution_count": null,
   "metadata": {},
   "outputs": [],
   "source": [
    "#DO NOT CHANGE THE CONTENT OF THIS CODE BOX\n",
    "import matplotlib.pyplot as plt\n",
    "import numpy as np\n",
    "from timeit import timeit\n",
    "from itertools import permutations"
   ]
  },
  {
   "cell_type": "markdown",
   "metadata": {
    "collapsed": true
   },
   "source": [
    "# Part 1: Analysis of given code  [35 marks total]\n",
    "\n",
    "***\n",
    "\n",
    "<div class=\"alert alert-block alert-danger\">\n",
    "    \n",
    "Please remember to write plenty of `# comments` in the code cells. Mark scheme is depicted in each question. 50% of the marks will go to assess the actual code, and 50% of the marks will go to assess the `# comments`. Remember also to **reference** any sources you used. If you used any code or coding ideas you found elsewhere, you are encouraged to do that in the `# comments`.\n"
   ]
  },
  {
   "attachments": {},
   "cell_type": "markdown",
   "metadata": {},
   "source": [
    "---\n",
    "**[1.1] [10 marks]** Explain in detail how the function `find_length_of_longest_increasing_subsequence` works. More specifically:\n",
    "- Which data types would be accepted by the function for the argument `pi`?\n",
    "- What does the function return? What data type is it?\n",
    "- Explain the purpose of the variable `l`.\n",
    "- Explain what precisely is being computed in the nested loop involving the parameters `i` and `j`. What is the meaning of `pi[j]<pi[i]` and `l[j]>l[i]`?\n",
    "- Why did I choose to write `max(l+[0])` and not `max(l)`? *Hint: consider what happens when the function is called with an empty list.*\n",
    "- Does `find_length_of_longest_increasing_subsequence(\"computer\")` work? Why? What does the output mean?\n",
    "---\n",
    "## Answer 1.1\n",
    "* For the function to run as expected, the argument `pi` should be an iterable such that is subscriptable in an appropiate format. For instance arrays, strings, tuples or dictionaries in a sensitive format could be accepted and return the expected output. For instance, suppose we have $n\\in\\mathbb N$, and $\\pi=(\\pi_0,\\pi_1,\\ldots,\\pi_{n-1})$ where $\\pi$ is a permutation of $[n]$\n",
    "    - A string in the form: `pi` = \"$\\pi_0\\pi_1...\\pi_{n-1}$\" would return the expected output.\n",
    "    - A list in the form: `pi` = [$\\pi_0, \\pi_1, ..., \\pi_{n-1}$] would return the expected output.\n",
    "    - A tuple in the form: `pi` = ($\\pi_0, \\pi_1, ..., \\pi_{n-1}$) would return the expected output.\n",
    "    - A dictionary in the form: `pi` = {0: $\\pi_0$, 1: $\\pi_1$, ..., n-1: $\\pi_{n-1}$} would return the expected output. \n",
    "    - Any other non-subscriptable iterable such as a set or any other data type that is not an iterable such as an integer will raise a Type Error. Any of these data types listed above in a different format will most likely give an unexpected output. Other subscriptable data types would need to be examined independently.\n",
    "* The data type returned will always be an integer greater than or equal to 0. This is because the return value will be the return value of the max() function that receives a non-empty list of integers bigger than or equal to 0 (assuming that the `pi` input is of appropiate data type and format). The function returns the max value of `l` or 0 if it is empty (`l` has only non-negative integers).\n",
    "* Each ith element of `l` maps to the length of the longest strictly increasing subsequence from $\\pi_0$ to $\\pi_i$ containing $\\pi_i$. For intance, if we have the sequence `pi` = [4, 5, 3, 8, 1, 9, 7, 2, 6], we will have `l[0]` = 1 as the longest strictly increasing subsequence of $(4)$ is $(4)$ of length 1. `l[1]` = 2 as the longest subsequence is $(4, 5)$ but `l[2]` = 1 as the longest strictly increasing subsequence of $(4, 5, 3)$ is still $(4, 5)$, but the longest of these subsequences containing $3$ is just $(3)$. The function returns the maximum of these values (assuming `pi` is not empty) as the longest possible increasing subsequence will have as end-element one value in $\\pi$ with index $m, 1\\leq m \\leq n$, for which length will be the same as the value in `l[m]`\n",
    "* The outer loop goes through each entry in pi and the inner loop goes through each entry from 0 to the current ith entry of pi. The conditional with `pi[j]<pi[i]` and `l[j]>l[i]` in the inner loop, will compare each of the previous terms with the new ith entry and check if the new entry is greater than each of them. For each time the new entry is greater than a previous term, then it will check which increasing subsequence of smaller, previous terms is bigger, and it will associate the new ith term to that subsequence. When the inner loop finishes executing, the length of the subsequence associated to the ith term will increase by one (as it was only counting the length of the subsequence up to the previous, smaller terms, and it needs to address the new term).\n",
    "* `max(l+[0])` and not `max(l)` because if pi is empty, for instance if `pi` = [], then it will still be a permutation of $[0]$. By definition, the empty set can only be ordered one way, but as it has no subsequences, then the longest subsequence is of length 0. However, if it weren't `max(l+[0])` and it was just `max([])`, the input `pi` = []  would give a ValueError but the input is an expected input (as the permutation of [0] exists). This problem is easily solved with `max(l+[0])` and it will not change the output when $n>0$ as the shortest strictly increasing subsequence will be of length at least 1. This is due to the fact that if  $n>0$, then `pi` contains at least a term and one of the increasing subsequences would be this term $\\pi_l$. \n",
    "* If we associate each lowercase letter to a number, in such a way that it coincides with their position in the English Alphabet, then the output of `find_length_of_longest_increasing_subsequence(\"computer\")` is correct. It considers the length of one of the longest subsequence (like `\"cmpr\"`) and returns its length (`4`). If, however, we consider that the output of `\"ComPUTer\"` should be the same, then the code doesn't return the same as `\"computer\"`, and so the code should be modified. If we also consider non-English characters such as `\"ñ\"` the code won't work as expected for some inputs. If we restrict the input to English lower case characters, then the code works as expected for this input (such as the `\"computer\"`). However if we are expecting for an error to be raised, because we are not considering lowercase strings as types of permutation, then the output is not correct. For this reason, depending in the situation, the output for `\"computer\"` could be correct or incorrect depending on the context where the code is needed. \n",
    "---\n"
   ]
  },
  {
   "cell_type": "markdown",
   "metadata": {},
   "source": [
    "---\n",
    "**[1.2] [5 marks]** Now write a well-documented version of the function `find_length_of_longest_increasing_subsequence`. Add a document string and plenty of comments, but do not change the code itself.\n",
    "\n",
    "---"
   ]
  },
  {
   "cell_type": "code",
   "execution_count": null,
   "metadata": {
    "scrolled": false
   },
   "outputs": [],
   "source": [
    "def find_length_of_longest_increasing_subsequence(pi):\n",
    "    \"\"\"\n",
    "    Given a permutation of [n] called pi, return the longest possible length of strictly increasing subsequences of pi.\n",
    "    If pi is empty, return 0.\n",
    "    \"\"\"\n",
    "    #instantiate n as a variable containing the length of pi\n",
    "    n=len(pi) \n",
    "    #Instantiate l as a list of the same length as pi containing 0's in each entry\n",
    "    l=n*[0]\n",
    "    #loop through each entry in pi\n",
    "    for i in range(n):\n",
    "        #loop through each entry from 0 to the current ith entry of pi\n",
    "        for j in range(i):\n",
    "            #compare the current entry of pi with the previous entries of pi, together with the longest subsequence associated to each of the previous entries\n",
    "            if pi[j]<pi[i] and l[j]>l[i]:\n",
    "                #If the new entry is bigger than the jth previous entry, and the associated subsequence of the jth entry is longer than the current longest subsequence associated with the ith entry, replace with the new longest subsequence that will now be associated to the ith entry\n",
    "                l[i]=l[j]\n",
    "        #the longest subsequence from 0 to ith containing the ith entry will have the length of the previous longest subsequence, and so we are adding 1 accounting for the new added value\n",
    "        l[i]=l[i]+1\n",
    "    #return the max value of the longest subsequence associated to each term or 0 if pi is empty.\n",
    "    return max(l+[0])"
   ]
  },
  {
   "cell_type": "markdown",
   "metadata": {},
   "source": [
    "---\n",
    "**[1.3] [5 marks]** What can you say about the computational complexity of `find_length_of_longest_increasing_subsequence`? Discuss how run time and memory requirement grow as the length $n$ of the permutation increases.\n",
    "\n",
    "---"
   ]
  },
  {
   "attachments": {},
   "cell_type": "markdown",
   "metadata": {},
   "source": [
    "The run time complexity is of O($n^2$). This means that the run time will be directly proportional to the square of the size of the input.\n",
    "* Reasoning: I am going to start from the inside of the two loops and expand from this. Firstly we have:\n",
    "    <pre><code>\n",
    "        if pi[j]<pi[i] and l[j]>l[i]:\n",
    "            l[i]=l[j]\n",
    "    </code></pre>\n",
    "    This has run time complexity of O($1$). Firstly because accessing a list in python from its ith element is constant. This is due to the fact that, for instance `pi[j]`, is a pointer that directly accesses the location of its element in memory. Comparing elements is obviously also independent of input size.\n",
    "    Now if we add:\n",
    "    <pre><code>\n",
    "    for i in range(n):\n",
    "        for j in range(i):\n",
    "            if pi[j]<pi[i] and l[j]>l[i]:\n",
    "                l[i]=l[j]\n",
    "        l[i]=l[i]+1\n",
    "    </code></pre> \n",
    "    \n",
    "    The first loop is directly proportional to the size of the input $n$. It increases linearly, as an input of size $n$ would entail $n$ iterations, an input of size $n+1$ would entail $n+1$ iterations and so on. (Remember that $n$ directly references the size of the input as `n = len(pi)`). However, as we have a for loop inside the outer loop, then an input of size $n$ would entail that for each of the $n$ iterations, say iteration $i$, there would be $i-1$ iterations. Hence the run time of the loops would be proportional to $n\\sum_{i=1}^{n-1}{i}+(n-1)\\sum_{i=1}^{n-2}{i}+...+1+0$. Furthermore, $deg(n\\sum_{i=1}^{n-1}{i}+(n-1)\\sum_{i=1}^{n-2}{i}+...+1+0) = 2$ and so the run time increases proportionally to this polynomial of $n$ which has $\\lambda n^2$ as the leading coefficient and where $\\lambda \\in \\mathbb{R}$. As the $n^2$ term makes the other negligible in big O notation, then this algorithm has O($n^2$). (I got help from this source https://en.wikipedia.org/wiki/Big_O_notation when deciding what happened with the leftover $\\lambda$).\n",
    "\n",
    "    On the other hand, the \"worst case\" and \"best case\" scenarios have the same run time complexity. This is because the number of iterations don't depend on the content of the input, but just the length of it. For instance if the sequence is $(0,1,2,3,4,5,...,n)$ or the sequence is $(n, n-1, ..., 2,1,0)$, even if the max length is trivial for both cases, the input will run the same amount of times for both of these cases. It will also run the same amount of times if the input is in total disarray but still of size $n$.\n",
    "\n",
    "    For the rest of the code, as `len` over python built-ins has run time of O($1$), `max` has run time of O($n$) and `l=n*[0]` has run time of O($n$) and so these run times become negligible when compared with the code of run time O($n^2$). (Source: https://wiki.python.org/moin/TimeComplexity)\n",
    " \n",
    "The space complexity of this code is of O($n$). \n",
    "* Reasoning: The only auxiliary memory being used is for `l` and for `n`. `l` has exactly the length $n$, so it uses the same memory space as the input and `n` uses constant memory space as it is just saving the length of the input. Hence the space used is linearly proportional to the input.\n",
    " \n",
    "    "
   ]
  },
  {
   "attachments": {},
   "cell_type": "markdown",
   "metadata": {},
   "source": [
    "I have studies complexity before, but I think it is been one of my weakest subjects, and for this I used this blog as a source. https://www.enjoyalgorithms.com/blog/time-complexity-analysis-of-loop-in-programming"
   ]
  },
  {
   "cell_type": "markdown",
   "metadata": {},
   "source": [
    "---\n",
    "**[1.4] [5 marks]**  `numpy` has functionality that allows you to generate random permutations, and `timeit` (imported above) allows you to compute the time a function call takes. Verify your answer about the time complexity from the previous question by computing the run time for randomly chosen permutations and a suitable range of lengths and producing an appropriate plot of the run times against the lengths of the permutations.\n",
    "\n",
    "---"
   ]
  },
  {
   "cell_type": "code",
   "execution_count": null,
   "metadata": {},
   "outputs": [],
   "source": [
    "#generating the x axis that contains the permutations from 0 to 1000\n",
    "#the largest permutation size to be computed. If it is taking unacceptably long, please decrease this number\n",
    "maxPermutation = 1000\n",
    "#would have set a bigger range end but the function raises an error for large values of x[i]\n",
    "#there is a minimal gap between the x values so computation is done is a more reasonable time\n",
    "x = [i for i in range(0,maxPermutation, 5)]\n",
    "#make random permutations for each value of x\n",
    "#used this reference: https://numpy.org/doc/stable/reference/generated/numpy.array2string.html to make a string that can properly be interpreted as an array inside the timeit function\n",
    "permutationsOfX = [np.array2string(np.random.permutation(i), separator=\", \") for i in x]\n",
    "#using the timeit function to generate the y axis of times taken for the function to run depending on permutation size\n",
    "# I used the following resources: https://docs.python.org/3/library/timeit.html, https://www.geeksforgeeks.org/timeit-python-examples/\n",
    "y = [timeit(setup=\"from __main__ import find_length_of_longest_increasing_subsequence\", stmt=\"find_length_of_longest_increasing_subsequence(\"+p+\")\", number=10) for p in permutationsOfX]\n",
    "\n",
    "#setting the x-axis and y-axis labels to appropiate values\n",
    "plt.xlabel(\"permutation size\") \n",
    "plt.ylabel(\"time taken for function to run 10 times\")\n",
    "#plotting using a line graph of permutation size against time \n",
    "plt.plot(x, y)\n",
    "plt.show()\n",
    "\n",
    "#We can see that the plot has a \"half-bell\" shape, comparable to the graph of x^2, as, if the input is of size n (permutation size), the run time is proportional to O(n^2).\n",
    "\n",
    "#The plot is not \"smooth\" as it should ideally be. \n",
    "#It is to my understanding that this is due to the task scheduler in each computer giving different priorities to different processes in the computer while the output is running. It can also be due to variable processing times due to factors I'm not fully aware of.\n",
    "#It can also due to the different times it takes to access different memory spaces.\n",
    "#If I understand correctly, in an \"ideal\" wordl where we had a computer dedicated solely to running this algorithm, that accessed memory spaces in equal times, the plot should be smooth.\n",
    "#The plot should be smooth partly because the time iterations for different permutations, don't depend on the content of these permutations, but only in the length of these permutations, as explained in the previous exercise.\n",
    "#In different operating systems, or with computers running less tasks in the background, or with more cores in the processor the plot might be more \"smooth\" \"\"\"\n",
    "\n",
    "\n",
    "#this took 20 - 25 seconds to compute in my computer. If it is taking too long, please decrease the value in maxPermutation"
   ]
  },
  {
   "cell_type": "markdown",
   "metadata": {},
   "source": [
    "---\n",
    "**[1.5] [5 marks]**  Now that you understand the code well, here's an alternative function written by some crazy python programmer who has been using recursion, lambda functions, enumerate, and list comprehension.\n",
    "```python\n",
    "def find_length_of_longest_increasing_subsequence_alternative(pi):\n",
    "    aux=lambda psi:[] if len(psi)==0 else \\\n",
    "                     (lambda _:_+[1+max([0]+[k for j,k in enumerate(_) if psi[j]<psi[-1]])])(aux(psi[:-1]))\n",
    "    return 0 if len(pi)==0 else max(aux(pi))\n",
    "```\n",
    "Explain how recursion is used here.\n",
    "\n",
    "---"
   ]
  },
  {
   "cell_type": "code",
   "execution_count": null,
   "metadata": {},
   "outputs": [],
   "source": [
    "#To understand this code, I am going to first try and make it legible for me to understand and for explaining it step by step later.\n",
    "#I understand that this might not be the idea of this exercise. However, as we were asked to show our working, this is how I try to understand this code.\n",
    "#Regardless, I will still explain later based on the original function given, after having understood thoroughly what was happening. I am only using this as \"rough work\".\n",
    "\n",
    "#different function to the one that was given to us that does exactly the same in terms of output and computations.\n",
    "def find_length_of_longest_increasing_subsequence_alternative(pi):\n",
    "    #aux will be doing the same as the aux in the original recursive function.\n",
    "    def aux(psi):\n",
    "        #base case that does the same as the base case in the aux function\n",
    "        if (len(psi) == 0):\n",
    "            #Initialises the list that will act as the list l in our original function\n",
    "            #returns when psi is empty and so it is the list auxOfLambda will start to fill up\n",
    "            return []\n",
    "        else:\n",
    "            #will act as the lambda funtion that used to take \"_\" as input. In reality it takes as input an l list that has the same prupose as the l list in the original non-recursive function.\n",
    "            def auxOfLambda(l):\n",
    "                #iterable of list l matching the index of each sequence element with the length of the longest increasing subsequence up to this element and that contains this element.\n",
    "                enumeratedSequence = enumerate(l)\n",
    "                #list of possible longest increasing subsequences up to the element we are currently looking at (psi[-1] almost equivalent to the p[i] from before)\n",
    "                possibleLongestLengths = [0]\n",
    "                #acts as the inner-loop in the original non-recursive function as it iterates up to the current sequence element that we are looking at\n",
    "                for enumeratedElement in enumeratedSequence:\n",
    "                    #j and k in the original recursive function, j being the index of the sequence element we are looking at and k being the length of the longest increasing subsequence containing this element, and up to this element\n",
    "                    elementIndex = enumeratedElement[0]\n",
    "                    elementVal = enumeratedElement[1]\n",
    "                    #psi[-1] has the same role as p[i] from the original non-recursive function. If a previous element is smaller than the current element p[i] we are looking at, then add this possible longest length to the list\n",
    "                    if (psi[elementIndex] < psi[-1]):\n",
    "                        possibleLongestLengths = possibleLongestLengths + [elementVal]\n",
    "                #Get the longest length of possible valid lengths, add one to it (accounting to the element psi[-1]), and append it to l\n",
    "                #This new entry of l will contain the longest increasing subsequence containing the element psi[-1]\n",
    "                l = l + [1 + max(possibleLongestLengths)]\n",
    "                #return updated l list accounting for new element psi[-1]\n",
    "                return l\n",
    "            #When the cutting of psi reaches an empty subsequence, it will call auxOfLambda over itself starting from an empty list with psi being empty\n",
    "            #Afterwards, auxOfLambda is being called again with the same subsequence of psi as before, but with one more element at the end, and returning an updated l list which the next auxOfLambda receives as input. \n",
    "            #The variable psi that auxOfLambda uses, is each time added another entry which is used to update l\n",
    "            return auxOfLambda(aux(psi[:-1]))\n",
    "    #If pi is empty simply return 0\n",
    "    #Otherwise it calls the recursive function aux to get l. Each ith element of `l` maps to the length of the longest strictly increasing subsequence from pi_0 to pi_i containing pi_i.\n",
    "    #It then gets the maximum of these values, that will match with the length of the longest increasing subsequence for the reasons explained in question 1.1\n",
    "    return 0 if len(pi) == 0 else max(aux(pi))\n",
    "                "
   ]
  },
  {
   "attachments": {},
   "cell_type": "markdown",
   "metadata": {},
   "source": [
    "## Answer\n",
    "Provided that `pi` does not have length 0 (is not empty), then recursion will be used to compute the length of the longest strictly increasing subsequence. The recursive function being called inside `find_length_of_longest_increasing_subsequence_alternative` is `aux`, which will return a list `l`, with the same properties as the list `l` in the original non-recursive function. \n",
    "### How does recursion work in aux\n",
    "* The base case of `aux` is given when the length of its input, `psi` is equal to 0. When this happens it will return an empty list. `aux` calls itself $n$ times.\n",
    "* The recursive call will call another lambda function, which in turn will call the `aux` function again with a shortened version of the `pi` input containing all its elements except the last one. This will happen repeatedly, calling the lambda function over itself, taking as input the output of `aux` with a shortened version of `pi`. \n",
    "    - If, for instance, the original `pi` variable has length $n \\in \\mathbb{N}$, and suppose we call $f$ the lambda function inside `aux`, then the following will happen inside the first `aux` call: $f \\circ f \\circ f... \\circ f([])$ where f calls itself $n - 1$ times. However, as it calls itself repeatedly, the pi value that $f$ uses is different. In the first (outermost) call, $f$ uses the complete version of `pi` as `psi`, `psi` shortened by one element, and so on. The last call uses a version of `psi` with only one element (its first element).\n",
    "    - $f$ in turn will return a list `l` of length 1 at first, but will be updated each time $f$ calls itself. This is due to the fact that $f$ is updating the list it is recieving as input, adding one element to it, and then returning it. This element each $f$ is adding corresponds to the length of the longest increasing subsequence that contains the last added element of `pi`. The explanation of how it does this is omitted here as it doesn't use recursion, but it uses python functions such as `enumerate` and `max` as well as list comprehensions.\n",
    "    - The final $f$ will return the full list `l` with $n$ entries.\n",
    "* `aux` will return the last `l` list returned by the othermost $f$ function call. In summary, suppose `pi` = [ $\\pi_0, \\pi_1, ..., \\pi_{n-1}$], then:\n",
    "    - `aux`(`pi`) = $f \\circ f \\circ ... \\circ f$`(aux([])` = $f \\circ f \\circ ... \\circ f$`([])` where f is called $n-1$ times and refers to the lambda function inside `aux`. The ith call of $f$ will use `psi` = [ $\\pi_0, \\pi_1, ..., \\pi_{i}$] instead of `pi`."
   ]
  },
  {
   "cell_type": "markdown",
   "metadata": {},
   "source": [
    "---\n",
    "**[1.6] [5 marks]**  Compare the time complexity of `find_length_of_longest_increasing_subsequence` and `find_length_of_longest_increasing_subsequence_alternative`, using appropriate permutation lengths.\n"
   ]
  },
  {
   "cell_type": "code",
   "execution_count": null,
   "metadata": {},
   "outputs": [],
   "source": [
    "#I am going to use the original recursive function with lambdas, instead of the function I made for rough work\n",
    "def find_length_of_longest_increasing_subsequence_alternative(pi):\n",
    "    aux=lambda psi:[] if len(psi)==0 else \\\n",
    "                     (lambda _:_+[1+max([0]+[k for j,k in enumerate(_) if psi[j]<psi[-1]])])(aux(psi[:-1]))\n",
    "    return 0 if len(pi)==0 else max(aux(pi))\n",
    "\n",
    "#comparing with the previous plot, making a similar plot for the new function\n",
    "#generating the x axis that contains the permutations from 0 to 1000\n",
    "#the largest permutation size to be computed. If it is taking unacceptably long, please decrease this number\n",
    "maxPermutation = 1000\n",
    "#would have set a bigger range end but the function raises an error for large values of x[i]\n",
    "#Permutations have a wider gap between each other so permutation length remains large but execution time is reasonable\n",
    "x = [i for i in range(0,maxPermutation, 20)]\n",
    "#make random permutations for each value of x\n",
    "#used this reference: https://numpy.org/doc/stable/reference/generated/numpy.array2string.html to make a string that can properly be interpreted as an array inside the timeit function\n",
    "#the same permutations will be used for both functions\n",
    "permutationsOfX = [np.array2string(np.random.permutation(i), separator=\", \") for i in x]\n",
    "#using the timeit function to generate the y axis of times taken for the function to run depending on permutation size, for the original function\n",
    "# I used the following resources: https://docs.python.org/3/library/timeit.html, https://www.geeksforgeeks.org/timeit-python-examples/\n",
    "y = [timeit(setup=\"from __main__ import find_length_of_longest_increasing_subsequence\", stmt=\"find_length_of_longest_increasing_subsequence(\"+p+\")\", number=10) for p in permutationsOfX]\n",
    "#Using the timeit function to time the alternative function. It is done in the same way as the previous function and it will have the values in the y axis of the plot of this alternative function\n",
    "yAlternative = [timeit(setup=\"from __main__ import find_length_of_longest_increasing_subsequence_alternative\", stmt=\"find_length_of_longest_increasing_subsequence_alternative(\"+p+\")\", number=10) for p in permutationsOfX]\n",
    "\n",
    "#setting the x-axis and y-axis labels to appropiate values\n",
    "plt.xlabel(\"permutation size\") \n",
    "plt.ylabel(\"time taken for each function to run 10 times\")\n",
    "#plotting using a line graph of permutation size against time \n",
    "plt.plot(x, y)\n",
    "plt.plot(x, yAlternative)\n",
    "plt.show()\n",
    "\n",
    "#This curves might seem smoother than the previous one, because there is a wider gap between permutation size. \n",
    "# However this also means that there plot consists of bigger lines put together which shows that it is less accurate.\n",
    "# If I understand correctly, this plot is less accurate than the previous, and so less reliable. However it was necessary to increase the gap so the computation time is reasonable.\n",
    "\n",
    "#If this is taking too long, you can edit maxPermutation and decrease its value"
   ]
  },
  {
   "attachments": {},
   "cell_type": "markdown",
   "metadata": {},
   "source": [
    "# Explanation\n",
    "It is clear that the alternative function takes a longer time than the original. This is because its time complexity is of $O(n^5)$. \n",
    "#### Reasoning:\n",
    "* When the `aux` function is called $n$ times, then it will execute the lambda function $n$ times which in turn has a time complexity of $O(n^2)$.\n",
    "    - The following `_+[1+max([0]+[k for j,k in enumerate(_) if psi[j]<psi[-1]])]` will have an execution time proportional to $n^3$ in the worst case (which happens at least one's in the execution of the code). Suppose `_` is of size $m$. Adding a list of size of size $1$ to a list has a contant time, as it is equivalent to appending to a list. The function `enumerate` has time complexity proportional to `n`. The list comprehension also has a time complexity of, at most, $n-1$ and the `max` function, as per this [documentation](https://wiki.python.org/moin/TimeComplexity), will have a time complexity proportional to `n`. Hence for each iteration of `_+[1+max([0]+[k for j,k in enumerate(_) if psi[j]<psi[-1]])]`, when `_` is of size $m$, then there will be an execution time of $1*m*m*m$, and $m$ is at most $n$. \n",
    "* As the lambda function is called $n$ times and it has a processing time proportional to $n^2$ then the `aux` function will take a time proportional to $n$ for it to compute. As `aux`, in turn, is called $n$ times then the alternative function will have a time complexity of $O(n^5)$."
   ]
  },
  {
   "cell_type": "markdown",
   "metadata": {},
   "source": [
    "\n",
    "# Part 2: Find all longest increasing subsequences [30 marks total]\n",
    "*** ***\n",
    "\n",
    "<div class=\"alert alert-block alert-danger\">\n",
    "    \n",
    "Please remember to write plenty of `# comments` in the code cells. Mark scheme is depicted in each question. 50% of the marks will go to assess the actual code, and 50% of the marks will go to assess the `# comments`. Remember also to **reference** any sources you used. If you used any code or coding ideas you found elsewhere, you are encouraged to do that in the `# comments`.\n",
    "\n",
    "\n"
   ]
  },
  {
   "cell_type": "markdown",
   "metadata": {},
   "source": [
    "---\n",
    "**[2.1] [15 marks]** The code in Part 1 only gives the length of the longest increasing subsequence for a given permutation. Moreover, we have seen above that the largest increasing subsequence need not be unique.\n",
    "\n",
    "By using the existing code for `find_length_of_longest_increasing_subsequence(pi)`, **and not otherwise**, write a function `find_all_longest_increasing_subsequences(pi)` that gives out all of them for a given `pi`.\n",
    "\n",
    "The output should be in the form of a list of lists, i.e. `[sequence1, sequence2, ...]`, where each entry is a longest increasing subsequence.\n",
    "\n",
    "Test this function on `[]`, `[0,2,1]`, `[0,1,2,3,4,5]`, `[5,4,3,2,1]`, and `\"computer\"`.\n",
    "\n",
    "---"
   ]
  },
  {
   "cell_type": "code",
   "execution_count": null,
   "metadata": {},
   "outputs": [],
   "source": [
    "def find_all_longest_increasing_subsequences(pi):\n",
    "    \"\"\"\n",
    "    Given a permutation of [n] called pi, return all the longest increasing subsequences of longest length.\n",
    "    If pi is empty, return the empty list.\n",
    "    \"\"\"\n",
    "    #instantiate n as a variable containing the length of pi\n",
    "    n=len(pi) \n",
    "    #Instantiate l as a list of the same length as pi containing 0's in each entry\n",
    "    l=n*[0]\n",
    "    #list of longest subsequences\n",
    "    listOfLongest = []\n",
    "    #mapping with possible longest sequences. Contains the key that maps an index of a value in pi, and maps to the longest subsequences containing this pi as the last element\n",
    "    #similar to how l[i] maps to the length of the longest subsequenes ending with this pi[i], this dictionary maps to the longest possible subsequences ending with this p[i] value\n",
    "    possibleLongest = {}\n",
    "    #loop through each entry in pi\n",
    "    for i in range(n):\n",
    "        #each longest subsequence will end with this pi[i] value, and for now, as we haven't assessed previous subsequences, (pi[i]) is the longest subsequence ending in pi[i]\n",
    "        #Made this wai so for the first iteration (when the inner loop) doesn't execute, we still have started building the dictionary\n",
    "        possibleLongest[i] = [[pi[i]]]\n",
    "        #loop through each entry from 0 to the current ith entry of pi\n",
    "        for j in range(i):\n",
    "            #compare the current entry of pi with the previous entries of pi, together with the longest subsequence associated to each of the previous entries\n",
    "            if pi[j]<pi[i] and l[j]>l[i]:\n",
    "                #this subsequence has the new longest length so there is no need to save previous values \n",
    "                possibleLongest[i] = []\n",
    "                #get the previous longest subsequences associated with j and add the new pi[i] value to it. Map it to the ith element\n",
    "                for sequence in possibleLongest[j]:\n",
    "                    possibleLongest[i].append(sequence + [pi[i]])\n",
    "                #If the new entry is bigger than the jth previous entry, and the associated subsequence of the jth entry is longer than the current longest subsequence associated with the ith entry, replace with the new longest subsequence that will now be associated to the ith entry\n",
    "                l[i]=l[j]\n",
    "            #if the length of the previous subsequence is the same as the one we are currently associating with i, then we can have a longer sequence with a different last index\n",
    "            elif pi[j]<pi[i] and l[j]==l[i]:\n",
    "                for sequence in possibleLongest[j]:\n",
    "                    possibleLongest[i].append(sequence + [pi[i]])\n",
    "        #the longest subsequence from 0 to ith containing the ith entry will have the length of the previous longest subsequence, and so we are adding 1 accounting for the new added value\n",
    "        l[i]=l[i]+1\n",
    "    #Contains the max value of the longest subsequence associated to each term or 0 if pi is empty.\n",
    "    maxLength = max([0] + l)\n",
    "    #Iterate over the possible longest subsequences, using the max value of the sequence we got from the original code, measure each one of these and check if it has the same length\n",
    "    #source: https://realpython.com/iterate-through-dictionary-python/ to loop through dictionary values\n",
    "    for sequences in possibleLongest.values():\n",
    "        #as the value will be a list of lists then we need to loop through each\n",
    "        for sequence in sequences:\n",
    "            #longest subsequences will have to have the max-length in order to be the longest\n",
    "            if (len(sequence) == maxLength):\n",
    "                #append to the final list of the longest subsequences\n",
    "                listOfLongest.append(sequence)\n",
    "    return listOfLongest\n",
    "\n",
    "#tests required\n",
    "print(find_all_longest_increasing_subsequences([]))\n",
    "print(find_all_longest_increasing_subsequences([0,2,1]))\n",
    "print(find_all_longest_increasing_subsequences([0,1,2,3,4,5]))\n",
    "print(find_all_longest_increasing_subsequences([5,4,3,2,1,0]))\n",
    "print(find_all_longest_increasing_subsequences(\"computer\"))"
   ]
  },
  {
   "cell_type": "markdown",
   "metadata": {},
   "source": [
    "---\n",
    "**Note:** if you could not complete Q2.1 and write a working function `find_all_longest_increasing_subsequences`, you are allowed to use other code you found to work on subsequent questions, provided you provide a complete reference."
   ]
  },
  {
   "cell_type": "markdown",
   "metadata": {},
   "source": [
    "---\n",
    "**[2.2] [10 marks]** Among permutations of fixed size, there are many with several longest increasing subsequences. Find all permutations $\\pi$ of length $10$ with the largest number of different longest increasing subsequences. How many permutations $\\pi$ have you found, and how many different longest increasing subsequences do they each have? Print each of these permutations along with their longest increasing subsequences.\n",
    "\n",
    "You are allowed to use generate permutations using `itertools.permutation` (imported above) as follows.\n",
    "```python\n",
    "perms=permutations(range(10))\n",
    "for p in perms:\n",
    "    ...\n",
    "    ...\n",
    "```\n",
    "---"
   ]
  },
  {
   "cell_type": "code",
   "execution_count": null,
   "metadata": {
    "scrolled": false
   },
   "outputs": [],
   "source": [
    "#getting the permutations of length 10 as specified in the instructions\n",
    "perms = permutations(range(10))\n",
    "#contains the maximum amount of subsequences found that have the maximum length of increasing subsequences in a given permutation\n",
    "maxSubsequencesOfMaxSize = 0\n",
    "#contains the permutations with the maximum amount of longest subsequences in each permutation\n",
    "permutationsWithMaxLongestSubsequences = ()\n",
    "#saving as a dictionary the permutations with the greatest amount of longest increasing subsequences with its respective subsequences\n",
    "permutationsToSubsequences = {}\n",
    "\n",
    "#iterating over the permutations\n",
    "for perm in perms:\n",
    "    #contains all the longest subsequences of the given permutation\n",
    "    currentSubsequences = find_all_longest_increasing_subsequences(perm)\n",
    "    #current amount of subsequences with max length\n",
    "    currentAmountOfSubsequences = len(currentSubsequences)\n",
    "    \n",
    "    if (currentAmountOfSubsequences > maxSubsequencesOfMaxSize):\n",
    "        #if the current permutations has more subsequences then the maximum amount of subsequences is increased, \n",
    "        #and the tuple with the permutations will be assigned to only have this longest permutation\n",
    "        permutationsWithMaxLongestSubsequences = (perm,)    \n",
    "        maxSubsequencesOfMaxSize = currentAmountOfSubsequences\n",
    "        #also the dictionary matching the required permutations to its subsequences will be reseted with the only permutation that we have\n",
    "        permutationsToSubsequences = {perm: currentSubsequences}\n",
    "\n",
    "    elif(currentAmountOfSubsequences == maxSubsequencesOfMaxSize):\n",
    "        #if the current permutations has exactly the same subsequence number as the maximum amount of subsequences, \n",
    "        #the tuple with the permutations will have this new longest permutation added to it\n",
    "        permutationsWithMaxLongestSubsequences += (perm,)\n",
    "        #we also add to the dictionary the new permutation and its respective subsequence\n",
    "        permutationsToSubsequences[perm] = currentSubsequences\n",
    "#printing the answer to the first question as required\n",
    "print(\"The permutations \" + str(permutationsWithMaxLongestSubsequences)+\" have the most amount of longest increasing subsequeces. \\n These are \" + str(len(permutationsWithMaxLongestSubsequences)) + \" permutations\")\n",
    "print(\"These permutations have \"+ str(maxSubsequencesOfMaxSize) + \" longest increasing subsequences each, as follows\")\n",
    "\n",
    "#printing each permutation with its subsequences as required\n",
    "for permutationObtained, subsequences in permutationsToSubsequences.items():\n",
    "    #printing for each permutation, with the max amount subsequences of longest length, its respective subsequences\n",
    "    print(\"The permutation \" + str(permutationObtained) + \" has the \"+ str(maxSubsequencesOfMaxSize) +\" following subsequences:\\n\" + str(subsequences) + \"\\n\")\n",
    "#This took more than a minute to compute in this computer. I realize that my function find_all_longest_increasing_subsequences might not be optimal\n"
   ]
  },
  {
   "attachments": {},
   "cell_type": "markdown",
   "metadata": {},
   "source": [
    "There are 9 permutations that have the largest amount of longest increasing subsequences. Each of these 9 permutations has 36 subsequences that are the longest increasing in relation to its respective permutation."
   ]
  },
  {
   "cell_type": "markdown",
   "metadata": {},
   "source": [
    "---\n",
    "**[2.3] [5 marks]** As you should now have seen, there are many different questions one could ask about the properties of longest increasing subsequences. We shall finish this part by looking at \"typical\" lengths for large random permutations.\n",
    "\n",
    "Generate $10000$ random permutations of size $100$, compute the lengths of their longest increasing subsequences and display them in a suitable histogram, making sure that each bin corresponds precisely to one single length.\n",
    "\n",
    "---"
   ]
  },
  {
   "cell_type": "code",
   "execution_count": null,
   "metadata": {},
   "outputs": [],
   "source": [
    "\n",
    "#generating 10000 permutations of size 100 with np.random.permutation(100) that I used before\n",
    "permutations = [np.random.permutation(100) for i in range(10000)]\n",
    "#compute the longest increasing subsequence length of each permutation\n",
    "lengths = [find_length_of_longest_increasing_subsequence(permutation) for permutation in permutations]\n",
    "\n",
    "#source: https://matplotlib.org/stable/api/_as_gen/matplotlib.pyplot.hist.html to generate a bin sequence that separates each length possible into one single bin\n",
    "#The + 2 is due to the fact that the range(lengths) doesn't count the last element so we need a + 1\n",
    "#The other + 1 is so that the last bin doesn't count all the lengths that are equal to the max length - 1 + the max length. So we need one more bin so that the max length is separate from the previous to max lengths\n",
    "sequenceOfBins = [i for i in range(min(lengths), max(lengths) + 2)]\n",
    "#computing the histogram with each bin corresponding to one length. Delimiting each bin with a black line\n",
    "plt.hist(lengths, sequenceOfBins, edgecolor=\"black\")\n",
    "\n",
    "#labeling so it is clear\n",
    "plt.xlabel(\"Lengths\")\n",
    "plt.ylabel(\"Permutations with given length\")\n",
    "#show finished histogram\n",
    "plt.show()"
   ]
  },
  {
   "cell_type": "markdown",
   "metadata": {},
   "source": [
    "\n",
    "# Part 3: Visualising longest increasing subsequences [20 marks total]\n",
    "*** ***\n",
    "\n",
    "<div class=\"alert alert-block alert-danger\">\n",
    "    \n",
    "Please remember to write plenty of `# comments` in the code cells. Mark scheme is depicted in each question. 50% of the marks will go to assess the actual code, and 50% of the marks will go to assess the `# comments`. Remember also to **reference** any sources you used. If you used any code or coding ideas you found elsewhere, you are encouraged to do that in the `# comments`.\n",
    "\n",
    "\n"
   ]
  },
  {
   "cell_type": "markdown",
   "metadata": {},
   "source": [
    "You have been provided with a Python file called **\"project.py\"** on QMPlus, which you should **save in the same directory as this Jupyter notebook**.\n",
    "This file contains a function `create_permutation()` which creates a permutation for you, based on your student id. (This will look random, but will be unique to you, i.e. no two students will have the same permutation to work with.) In this section, you will analyse this permutation."
   ]
  },
  {
   "cell_type": "markdown",
   "metadata": {},
   "source": [
    "**[3.1] [5 marks]** Execute the following code cell to create your permutation. You **must** replace the number \"123456789\" with your 9-digit student number. \n",
    "\n",
    "*Important note.* This question essentially gives you 5 free marks for typing your student ID correctly. If you do not do this correctly, you will score zero for this part, and if you instead use another student's ID, then your submission will be reviewed for plagiarism."
   ]
  },
  {
   "cell_type": "code",
   "execution_count": null,
   "metadata": {},
   "outputs": [],
   "source": [
    "from project import create_permutation\n",
    "\n",
    "# Replace \"123456789\" below with your 9-digit student number\n",
    "#My id is 210477160\n",
    "my_permutation=create_permutation(210509979)\n",
    "\n",
    "# Replace \"123456789\" above with your 9-digit student number"
   ]
  },
  {
   "cell_type": "markdown",
   "metadata": {},
   "source": [
    "---\n",
    "**[3.2] [5 marks]** As described in the introduction above, a permutation $\\pi$ can be visualised using the points $(i,\\pi_i)$. Plot your permutation (choosing an appropriate marker size!), and describe what you see. How large is your permutation?\n",
    "\n",
    "---\n"
   ]
  },
  {
   "cell_type": "code",
   "execution_count": null,
   "metadata": {
    "scrolled": false
   },
   "outputs": [],
   "source": [
    "#Setting x coordinate as the ith index of each permutation element\n",
    "xValues = [i for i in range(len(my_permutation))]\n",
    "#the y values correspond to the ith element in the permutation\n",
    "yValues = [my_permutation[i] for i in range(len(my_permutation))]\n",
    "\n",
    "#permutation size\n",
    "#print(len(yValues))\n",
    "\n",
    "#plotting xValues against yValues\n",
    "#plotting one dot per observation (source: https://www.w3schools.com/python/matplotlib_scatter.asp)\n",
    "#making marker size smaller so as to make points not eclipse each other\n",
    "#save this scatter plot for later\n",
    "plt.scatter(xValues, yValues, s = 7)\n",
    "#labeling so it is clear\n",
    "plt.xlabel(\"i\")\n",
    "plt.ylabel(\"Permutation value in ith index\")\n",
    "#show the finished plot\n",
    "plt.show()"
   ]
  },
  {
   "attachments": {},
   "cell_type": "markdown",
   "metadata": {},
   "source": [
    "The permutation appears to be completely random, with no correlation to its index. There also don't seem to be outliers. There are a few clusters but they appear to be random. \n",
    "The size of the permutation I got is of 662, which can be seen if the print statement is uncommented."
   ]
  },
  {
   "cell_type": "markdown",
   "metadata": {},
   "source": [
    "---\n",
    "**[3.3] [5 marks]** How long is the longest increasing subsequence? How many are there?\n",
    "\n",
    "You will notice that it might take a minute or two to compute all those subsequences. Be patient...\n",
    "\n",
    "---\n",
    "**Note:** if you could not complete Q2.1 and write a working function `find_all_longest_increasing_subsequences`, you are allowed to use other code you found, provided you provide a complete reference.\n",
    "\n",
    "---\n"
   ]
  },
  {
   "cell_type": "code",
   "execution_count": null,
   "metadata": {},
   "outputs": [],
   "source": [
    "#use function from before to save the maximum length of longest increasing subsequences\n",
    "length = find_length_of_longest_increasing_subsequence(my_permutation)\n",
    "#use function from before to find which sequences achieve this length\n",
    "subsequencesOfMaxLength = find_all_longest_increasing_subsequences(my_permutation)\n",
    "#Find how many of these subsequences achieve this length\n",
    "numberOfSubsequencesWithMaxLength = len(subsequencesOfMaxLength)\n",
    "\n",
    "print(\"The maximum length of increasing subsequences is \"+ str(length) + \" and the amount of subsequences that achieve this length are: \" + str(numberOfSubsequencesWithMaxLength))"
   ]
  },
  {
   "cell_type": "markdown",
   "metadata": {},
   "source": [
    "---\n",
    "**[3.4] [5 marks]** Now that you have found all longest increasing subsequences, display these together with the permutation in a figure. What do you notice?\n",
    "\n",
    "---\n"
   ]
  },
  {
   "cell_type": "code",
   "execution_count": null,
   "metadata": {},
   "outputs": [],
   "source": [
    "#I had to considerably change the code from before so it runs in a reasonable amount of time\n",
    "\n",
    "#Firstly I use a dictionary to map the y values (values of each permutation) that point to its index in the permutation\n",
    "#It was important because I needed to get the index depending on the value that subsequences had. In this way, each time I am asking for the index it is made in O(1) as dictionaries are python's implementation of hash maps (as I understand)\n",
    "YAndXValues = {}\n",
    "#Iterating over the permutation so I build the dictionary\n",
    "for i in range(len(my_permutation)):\n",
    "    YAndXValues[my_permutation[i]] = i\n",
    "#will contain all the values that happen to be in one of the longest increasing subsequence.\n",
    "setOfValuesInLongest = set()\n",
    "#double loop so I iterate over each individual value in all of the subsequences\n",
    "for subsequence in subsequencesOfMaxLength:\n",
    "    for value in subsequence:\n",
    "        #add to the set (sets don't contain repeated values)\n",
    "        setOfValuesInLongest.add(value)\n",
    "#make the set to be a list so we can use this as the y coordinates in the plot\n",
    "yCoordinatesOfSubseq = list(setOfValuesInLongest)\n",
    "#make the x coordinates by getting the index of each of these values in a subsequence\n",
    "xCoordinatesOfSubseq = [YAndXValues[value] for value in yCoordinatesOfSubseq]\n",
    "#in this way that it was ordered, the x[i] value represents the index of the ith value in the permutation, for each of the values in the subsequences\n",
    "\n",
    "#original plot\n",
    "#plotting xValues against yValues\n",
    "#plotting one dot per observation (source: https://www.w3schools.com/python/matplotlib_scatter.asp)\n",
    "#making marker size smaller so as to make points not eclipse each other\n",
    "#save this scatter plot for later\n",
    "plt.scatter(YAndXValues.values(), YAndXValues.keys(), s = 7, label=\"Values in permutations\")\n",
    "#make a scatter plot for this with red coloured dot size so they can be noticed again the original plot\n",
    "plt.scatter(xCoordinatesOfSubseq, yCoordinatesOfSubseq, s = 7, color=\"red\", label=\"Values in longest increasing subsequences\")  \n",
    "\n",
    "#Labeling so it is clearer\n",
    "\n",
    "plt.xlabel(\"i\")\n",
    "plt.ylabel(\"Permutation value in ith index\")\n",
    "#Showing the legend to distinguish the normal points from the one in longest increasing subsequences\n",
    "#This was directly copied from here: https://www.geeksforgeeks.org/how-to-place-legend-outside-of-the-plot-in-matplotlib/\n",
    "plt.legend(bbox_to_anchor =(0.5,-0.27), loc='lower center')\n",
    "#show the finished plot\n",
    "plt.show()"
   ]
  },
  {
   "attachments": {},
   "cell_type": "markdown",
   "metadata": {},
   "source": [
    "Before I finished the current answer that is posted, I came up with a solution that took a long time (more than 4 minutes but possibly longer because I stopped it before it finished). However, I made a counter so that it plotted only a very small fraction of the subsequences. There was little difference in the plotted output when using 10 or 100 subsequence values. In this way I came up with this solution of using a set. It takes advantage of the pattern that longest increasing subsequences follow.\n",
    "\n",
    "The pattern involves that, firstly, values in longest increasing subsequences of permutations are more often than not repeated in the largest subsequences. Secondly, there is a positive linear correlation between the subsequences values and the corresponding indices in the original permutation. As the index of the permutation increases, the values in longest increasing subsequences shows linear growth.\n",
    "In order to show this I made a python code that plotted the line of best fit for this case"
   ]
  },
  {
   "cell_type": "code",
   "execution_count": null,
   "metadata": {},
   "outputs": [],
   "source": [
    "#showing line of best fit with numpy.polyfit\n",
    "#source: https://numpy.org/doc/stable/reference/generated/numpy.polyfit.html used to know that it exists\n",
    "#Most used: https://data36.com/linear-regression-in-python-numpy-polyfit/ used to implement\n",
    "#original plot\n",
    "#plotting xValues against yValues\n",
    "#plotting one dot per observation (source: https://www.w3schools.com/python/matplotlib_scatter.asp)\n",
    "#making marker size smaller so as to make points not eclipse each other\n",
    "#save this scatter plot for later\n",
    "plt.scatter(YAndXValues.values(), YAndXValues.keys(), s = 7, label=\"Values in permutations\")\n",
    "\n",
    "#make a scatter plot for this with red coloured dots so they can be noticed again the original plot\n",
    "plt.scatter(xCoordinatesOfSubseq, yCoordinatesOfSubseq, s = 12, color=\"red\", label=\"Values in longest increasing subsequences\")  \n",
    "\n",
    "#calculates the parameter of the linear regression as per the second source\n",
    "parameterOfRegression = np.polyfit(xCoordinatesOfSubseq, yCoordinatesOfSubseq, 1)\n",
    "lineOfPrediction = np.poly1d(parameterOfRegression)\n",
    "plt.plot(xCoordinatesOfSubseq, lineOfPrediction(xCoordinatesOfSubseq), label=\"Line of best fit\", color=\"green\")\n",
    "\n",
    "\n",
    "#Labeling so it is clearer\n",
    "plt.xlabel(\"i\")\n",
    "plt.ylabel(\"Permutation value in ith index\")\n",
    "#Showing the legend to distinguish the normal points from the one in longest increasing subsequences\n",
    "#This was directly copied from here: https://www.geeksforgeeks.org/how-to-place-legend-outside-of-the-plot-in-matplotlib/\n",
    "#A post that I believe was up before we began the module\n",
    "plt.legend(bbox_to_anchor =(0.5,-0.27), loc='lower center')\n",
    "#show the finished plot\n",
    "plt.show()"
   ]
  },
  {
   "cell_type": "markdown",
   "metadata": {},
   "source": [
    "\n",
    "# Part 4: Longest Increasing Shifted Subsequences [15 marks total]\n",
    "*** ***\n",
    "\n",
    "<div class=\"alert alert-block alert-danger\">\n",
    "    \n",
    "Please remember to write plenty of `# comments` in the code cells. Mark scheme is depicted in each question. 50% of the marks will go to assess the actual code, and 50% of the marks will go to assess the `# comments`. Remember also to **reference** any sources you used. If you used any code or coding ideas you found elsewhere, you are encouraged to do that in the `# comments`.\n"
   ]
  },
  {
   "cell_type": "markdown",
   "metadata": {},
   "source": [
    "We conclude with a modification of our original problem.  For any $n\\in\\mathbb{N}$, let $\\tau_n$ be the permutation of $[n]$ given by\n",
    "\n",
    "$$\\tau_n=(1,\\,2,\\,\\ldots,\\,n-1,\\,0) \\;. $$\n",
    "\n",
    "Right-multiplying a permutation by $\\tau_n$ has the effect of shifting the elements left by one place (with the first element being cycled back around to the end).  For example, if we have $n=5$, then\n",
    "\n",
    "$$(2,\\,4,\\,3,\\,1,\\,0)\\cdot\\tau_5=(4,\\,3,\\,1,\\,0,\\,2)\\;.$$\n",
    "\n",
    "Let $\\pi$ be a permutation of length $n$.  We call a sequence a **longest increasing shifted subsequence (LISS)** of $\\pi$ if it is a longest increasing subsequence of all permutations of the form $\\pi\\cdot\\tau_n^m$, where $m\\in\\mathbb{N}$. Clearly after shifting $n$ times we have come full circle, so $\\pi\\cdot\\tau_n^n=\\pi$.\n",
    "\n",
    "Returning to the example above, we see that $(0,\\,2,\\,4)$ is a LISS of the permutation $(2,\\,4,\\,3,\\,1,\\,0)$, since it is a longest increasing subsequence of $(2,\\,4,\\,3,\\,1,\\,0)\\cdot\\tau_5^2$."
   ]
  },
  {
   "cell_type": "markdown",
   "metadata": {},
   "source": [
    "---\n",
    "**[4.1] [5 marks]**  Let `pi` be a permutation of $[n]$, for some $n\\in\\mathbb{N}$, written in the form of a Python list.  Write a function `find_all_LISSes` that accepts such an input `pi`, and returns a list of every LISS of this permutation.\n",
    "\n",
    "Once this is done, use this function to compute the LISSes of the permutation `[2,4,3,1,0]`, and compare these with its longest increasing subsequences.\n",
    "\n",
    "**Hint:** Your function may use the function `find_all_longest_increasing_subsequences` that has already been defined above.  There is no need to re-write this code."
   ]
  },
  {
   "cell_type": "markdown",
   "metadata": {},
   "source": [
    "---\n",
    "**Note:** if you could not complete Q2.1 and write a working function `find_all_longest_increasing_subsequences`, you are allowed to use other code you found, provided you provide a complete reference.\n",
    "\n",
    "---"
   ]
  },
  {
   "cell_type": "code",
   "execution_count": null,
   "metadata": {},
   "outputs": [],
   "source": [
    "def find_all_LISSes(pi):\n",
    "    \"\"\"\n",
    "    Given a permutation [n] of size n called pi, returns a list of all the longest increasing shifted subsequences\n",
    "    If pi is empty, return an empty list\n",
    "    \"\"\"\n",
    "    \n",
    "    #list containing all the longest increasing subsequences found\n",
    "    LISSes = []\n",
    "    #instantiate n as a variable containing the length of pi\n",
    "    n=len(pi) \n",
    "    #will contain the list of longest increasing subsequences in the current shifted version of pi\n",
    "    longestIncreasingSubseqsOfCurrent = []\n",
    "    #contains the current maximum length of increasing subsequences found in a shift\n",
    "    maxLengthOfLISS = 0\n",
    "\n",
    "    #loop through the length of pi, so we shift it n - 1 times\n",
    "    #shifting n times won't add any additional subsequences, as the permutation will be the same as the initial one (which we evaluate in the first iteration)\n",
    "    for i in range(n):\n",
    "        #update the list of current longest increasing subsequences. Using the previous function to evaluate each shifted version of pi\n",
    "        longestIncreasingSubseqsOfCurrent = find_all_longest_increasing_subsequences(pi)\n",
    "        #current length of all the longest increasing subsequences in the current shift\n",
    "        #as all of these longest increasing subsequences in this shift have the same length, then we can just take one to check how long the longest subsequences are in the current shift\n",
    "        #with this method we are taking the first one only\n",
    "        currentLengthOfSubseq = len(longestIncreasingSubseqsOfCurrent[0])\n",
    "\n",
    "        #if the current length of the subsequences found is bigger than the maximum length of subsequences in previous shifts then forget the previous shorter subsequences\n",
    "        if (currentLengthOfSubseq > maxLengthOfLISS):\n",
    "            #update the value of maximum length of subsequences with the new bigger value\n",
    "            maxLengthOfLISS = currentLengthOfSubseq\n",
    "            #reset LISSes so it only contains the longest subsequences\n",
    "            LISSes = longestIncreasingSubseqsOfCurrent\n",
    "        #if the current length of the subsequences found is equal than the maximum length of subsequences in previous shifts, then add to the list the new longest increasing subsequences\n",
    "        elif(currentLengthOfSubseq == maxLengthOfLISS):\n",
    "            #loop through the longest subsequences we got\n",
    "            for longSubsequence in longestIncreasingSubseqsOfCurrent:\n",
    "                #if it is not already in the list to return, add it\n",
    "                #we want a list of longest increasing subsequence with all the subsequences that are LISSes, but it will use extra space if we add the same subsequences and it will be redundant, as we only require every LISS once in the return value\n",
    "                if not (longSubsequence in LISSes):\n",
    "                    #add it to the end of the list as required\n",
    "                    LISSes.append(longSubsequence)\n",
    "        #if the current length of the subsequences found is shorter than the maximum length of subsequences in a previous shift then don't do anything with the list of LISSes\n",
    "        \n",
    "        #shift pi by one, and the last element will be now in the first index (index 0)\n",
    "        #doing exactly the same as multiplying by the Tau permutation (as per the problem description above)\n",
    "        #the list comprehension will go from the last value of pi, to the start and then up to the previous to last value in pi.\n",
    "        #replace pi with the shifted pi vale\n",
    "        pi = [pi[i] for i in range(-1, n-1)]\n",
    "\n",
    "    #return the list as required\n",
    "    return LISSes\n",
    "#computing the LISSes of [2, 4, 3, 1, 0] as required\n",
    "print(find_all_LISSes([2, 4, 3, 1, 0]))\n",
    "#computing the longest increasing subsequences of [2, 4, 3, 1, 0] to compare, as required\n",
    "print(find_all_longest_increasing_subsequences([2, 4, 3, 1, 0]))"
   ]
  },
  {
   "attachments": {},
   "cell_type": "markdown",
   "metadata": {},
   "source": [
    "### Comparison:\n",
    "In the example provided, the LISSes have a longer length than the longest increasing subsequences from the unshifted sequence. "
   ]
  },
  {
   "cell_type": "markdown",
   "metadata": {},
   "source": [
    "You should find that the length of the LISSes of `[2,4,3,1,0]` is three, while the length of the longest increasing subsequences of `[2,4,3,1,0]` is only two.  It should be clear from the definition that the length of the LISSes of a permutation will always be longer than the length of its longest increasing subsequences.\n",
    "\n",
    "Note however, that we if we were to evaluate the LISSes of `[4,3,1,0,2]`, we would get identical results.  This is because the LISSes of a permutation are invariant under shifts.  The same is not true for longest increasing subsequences, which vary each time the permutation is shifted.  Indeed, if we left-shift twice, the set of LISSes and longest increasing subsequences would now coincide.\n",
    "\n",
    "This means that if we were to consider the ratio of the length of the LISSes with the length of the longest increasing subsequences, we would have reduced it from $1.5$ to $1$.  This brings us to our next question."
   ]
  },
  {
   "cell_type": "markdown",
   "metadata": {},
   "source": [
    "---\n",
    "**[4.2] [5 marks]**  Take the permutation `my_permutation` that you constructed in Q3.1, and determine how many places you must shift by in order to minimise the length of the longest increasing subsequence.\n",
    "\n",
    "Once this is done, perform this shift, and label the result `shifted_permutation`.\n",
    "\n",
    "Note that `shifted_permutation` will have a maximal ratio between the length of its LISSes to the length of its longest increasing subsequences.\n",
    "\n",
    "---"
   ]
  },
  {
   "cell_type": "code",
   "execution_count": null,
   "metadata": {},
   "outputs": [],
   "source": [
    "def shiftsForMinimalIncreasingSubseq(pi):\n",
    "    \"\"\"\n",
    "    Accepts a permutation pi and returns the amount of shifts required to minimise the length of the longest increasing subsequence.\n",
    "    Returns (0, []) if pi is empty\n",
    "    \"\"\"\n",
    "    #instantiate a variable that will store the amount of shifts required to get the minimal length of the longest increasing subsequence\n",
    "    shiftsRequired = 0\n",
    "    #n will contain the length of the permutation pi\n",
    "    n = len(pi)\n",
    "    #instantiate a variable that will store the longest length for the permutation that was shifted by the value in shiftsRequired\n",
    "    #it will have the minimum length that can be achieved, and it is initialized to be the length of longest increasing subsequence of the unshifted version of my_permutation\n",
    "    minLengthOfLongest = find_length_of_longest_increasing_subsequence(pi)\n",
    "    \n",
    "    #iterating over my permutation so that we check each of the n possible shifts\n",
    "    for i in range(n):\n",
    "        #computing the current longest length of increasing subsequences for the current shift done to my_permutation\n",
    "        currentLengthOfLongest = find_length_of_longest_increasing_subsequence(pi)\n",
    "        #if this shift achieves a smaller length than the previous minimum length, update minimum length and update the shifts required\n",
    "        if (currentLengthOfLongest < minLengthOfLongest):\n",
    "            #update the shifts required to the current number of shifts we have made\n",
    "            shiftsRequired = i\n",
    "            #update the minimum length obtained after current shift\n",
    "            minLengthOfLongest = currentLengthOfLongest\n",
    "        #update pi by shifting it by one before the loop repeats. The following code is copied from the previous question\n",
    "        #shift pi by one, and the last element will be now in the first index (index 0)\n",
    "        #doing exactly the same as multiplying by the Tau permutation (as per the problem description above)\n",
    "        #the list comprehension will go from the last value of pi, to the start and then up to the previous to last value in pi.\n",
    "        #replace pi with the shifted pi vale\n",
    "        pi = [pi[i] for i in range(-1, n-1)]\n",
    "    return shiftsRequired\n",
    "#as required, I am first determining how many shifts are needed to minimise the length of the longest increasing subsequence\n",
    "shiftsRequired = shiftsForMinimalIncreasingSubseq(my_permutation)\n",
    "#printing what was required to compute\n",
    "print(\"The shifts required to minimise the length of the longest increasing increasing subsequence are \"+ str(shiftsRequired) + \" shifts\")\n",
    "#performing this shift and labeling it as required\n",
    "#doing it in the same way as before but now, in only one step, I perform all the shifts\n",
    "shiftedPermutation = [my_permutation[i] for i in range(-shiftsRequired, len(my_permutation)-shiftsRequired)]"
   ]
  },
  {
   "cell_type": "markdown",
   "metadata": {},
   "source": [
    "---\n",
    "\n",
    "**[4.3] [5 marks]**  Replot the figure from Q3.4 with this new shifted permutation.  Your plot should now highlight the LISSes of your permutation, rather than the longest increasing subsequences. Explain how the behaviour of the LISSes differs from the behaviour of the longest increasing subsequences.\n",
    "\n",
    "---"
   ]
  },
  {
   "cell_type": "code",
   "execution_count": null,
   "metadata": {},
   "outputs": [],
   "source": [
    "#using exactly the same code, now with shiftedPermutation instead of my_permutation\n",
    "#Also re-using code from 3.3 that I used to make the plot\n",
    "\n",
    "#use function from before to save the maximum length of longest increasing subsequences\n",
    "length = find_length_of_longest_increasing_subsequence(shiftedPermutation)\n",
    "#use function from before to find which sequences achieve this length\n",
    "subsequencesOfMaxLength = find_all_longest_increasing_subsequences(shiftedPermutation)\n",
    "#Find how many of these subsequences achieve this length\n",
    "numberOfSubsequencesWithMaxLength = len(subsequencesOfMaxLength)\n",
    "\n",
    "#I had to considerably change the code from before so it runs in a reasonable amount of time\n",
    "\n",
    "#Firstly I use a dictionary to map the y values (values of each permutation) that point to its index in the permutation\n",
    "#It was important because I needed to get the index depending on the value that subsequences had. In this way, each time I am asking for the index it is made in O(1) as dictionaries are python's implementation of hash maps (as I understand)\n",
    "YAndXValues = {}\n",
    "#Iterating over the permutation so I build the dictionary\n",
    "for i in range(len(shiftedPermutation)):\n",
    "    YAndXValues[shiftedPermutation[i]] = i\n",
    "#will contain all the values that happen to be in one of the longest increasing subsequence.\n",
    "setOfValuesInLongest = set()\n",
    "#double loop so I iterate over each individual value in all of the subsequences\n",
    "for subsequence in subsequencesOfMaxLength:\n",
    "    for value in subsequence:\n",
    "        #add to the set (sets don't contain repeated values)\n",
    "        setOfValuesInLongest.add(value)\n",
    "#make the set to be a list so we can use this as the y coordinates in the plot\n",
    "yCoordinatesOfSubseq = list(setOfValuesInLongest)\n",
    "#make the x coordinates by getting the index of each of these values in a subsequence\n",
    "xCoordinatesOfSubseq = [YAndXValues[value] for value in yCoordinatesOfSubseq]\n",
    "#in this way that it was ordered, the x[i] value represents the index of the ith value in the permutation, for each of the values in the subsequences\n",
    "\n",
    "#original plot\n",
    "#plotting xValues against yValues\n",
    "#plotting one dot per observation (source: https://www.w3schools.com/python/matplotlib_scatter.asp)\n",
    "#making marker size smaller so as to make points not eclipse each other\n",
    "#save this scatter plot for later\n",
    "plt.scatter(YAndXValues.values(), YAndXValues.keys(), s = 7, label=\"Values in permutations\")\n",
    "#make a scatter plot for this with red coloured dot size so they can be noticed again the original plot\n",
    "plt.scatter(xCoordinatesOfSubseq, yCoordinatesOfSubseq, s = 7, color=\"red\", label=\"Values in LISSes\")  \n",
    "\n",
    "#Labeling so it is clearer\n",
    "plt.xlabel(\"i\")\n",
    "plt.ylabel(\"Permutation value in ith index\")\n",
    "#Showing the legend to distinguish the normal points from the one in longest increasing subsequences\n",
    "#This was directly copied from here: https://www.geeksforgeeks.org/how-to-place-legend-outside-of-the-plot-in-matplotlib/\n",
    "plt.legend(bbox_to_anchor =(0.5,-0.27), loc='lower center')\n",
    "#show the finished plot\n",
    "plt.show()"
   ]
  },
  {
   "attachments": {},
   "cell_type": "markdown",
   "metadata": {},
   "source": [
    "- My permutation already contained the minimal length of longest increasing subsequences in the first place. Hence the plot is exactly the same as before. However, I plotted more graphs with other random permutations calculated from other numbers. For example with 210509975 (first 3 digits in my id + 6 digits of my phone number), where the shifts where 502. \n",
    "- As the ratio between the length of its LISSes to the length of its longest increasing subsequences increases, the correlation I previously described becomes closer to 0. Hence the plot becomes more scattered. \n"
   ]
  }
 ],
 "metadata": {
  "kernelspec": {
   "display_name": "Python 3 (ipykernel)",
   "language": "python",
   "name": "python3"
  },
  "language_info": {
   "codemirror_mode": {
    "name": "ipython",
    "version": 3
   },
   "file_extension": ".py",
   "mimetype": "text/x-python",
   "name": "python",
   "nbconvert_exporter": "python",
   "pygments_lexer": "ipython3",
   "version": "3.9.13"
  }
 },
 "nbformat": 4,
 "nbformat_minor": 2
}
