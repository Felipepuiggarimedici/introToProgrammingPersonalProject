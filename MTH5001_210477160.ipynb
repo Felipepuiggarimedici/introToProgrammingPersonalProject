{
 "cells": [
  {
   "cell_type": "markdown",
   "metadata": {},
   "source": [
    "# MTH5001:  Introduction to Computer Programming 2022/23\n",
    "\n",
    "## Final Report Project: \"Longest Increasing Subsequences\"\n",
    "\n",
    "<div class=\"alert alert-block alert-danger\">\n",
    "\n",
    "**IMPORTANT**: \n",
    "Start by filling in your 9 digit *student ID number* below. **DO IT NOW**. \n",
    "    \n",
    "Save this Jupyter Notebook with the name **MTH5001_ID.ipynb**, where instead of **ID** you write your *student ID number*.\n",
    "\n",
    "Please check very carefully that your *student ID number* is accurately typed everywhere. Otherwise your marks might go to the wrong person.\n",
    "\n",
    "Use the available cells to introduce the code. You can add additional cells if needed. explain your code as much as possible with `# comments` </div>"
   ]
  },
  {
   "attachments": {},
   "cell_type": "markdown",
   "metadata": {},
   "source": [
    "<div class=\"alert alert-block alert-warning\">\n",
    "\n",
    "### ID: 210477160\n",
    "\n",
    "<br />"
   ]
  },
  {
   "cell_type": "markdown",
   "metadata": {},
   "source": [
    "\n",
    "\n",
    "### Instructions:\n",
    "\n",
    "You must write your answers in this Jupyter Notebook, using either Markdown or Python code as appropriate. \n",
    "\n",
    "Your code must be **well documented**. As a rough guide, you should aim to include one line of comments for each line of code (but you may include more or fewer comments depending on the situation).\n",
    "\n",
    "The total number of marks available is 100. Attempt all parts of all questions.\n",
    "\n",
    "For this project, you are expected to write your code almost entirely 'from scratch', although you are allowed to use some specific packages like `numpy`, `matplotlib.pyplot`, etc.\n",
    "\n",
    "### Submission deadline:\n",
    "\n",
    "You must submit your work via QMPlus, to the \"Final Report Project\" assignment in the \"Final Report Project\" section under the \"Assessment\" tab.\n",
    "\n",
    "The submission deadline is **11:55pm on Thursday 4th of May, 2023**. *(May the 4th be with you!)* Late submissions will be penalised according to the School's [guidelines](https://qmplus.qmul.ac.uk/pluginfile.php/3467941/mod_resource/content/1/School%20of%20Mathematical%20Sciences%20UG%20Student%20Handbook%202022_23.pdf).\n",
    "\n",
    "Your lecturers will respond to project-related emails until 5:00pm on Tuesday 2 May, 2022, only. You should aim to have your project finished by this time.\n",
    "\n",
    "### Marking of projects:\n",
    "\n",
    "When writing up projects, good writing style is even more important than in written exams. According to the [advice](https://qmplus.qmul.ac.uk/pluginfile.php/3467941/mod_resource/content/1/School%20of%20Mathematical%20Sciences%20UG%20Student%20Handbook%202022_23.pdf) in the student handbook,\n",
    "\n",
    "> To get full marks in any assessed work (tests or exams) you must normally not only give the right answers but also explain your working clearly and give reasons for your answers by writing legible and grammatically correct English sentences. Mathematics is about logic and reasoned arguments and the only way to present a reasoned and logical argument is by writing about it clearly. Your writing may include numbers and other mathematical symbols, but they are not enough on their own. You should copy the writing style used in good mathematical textbooks, such as those recommended for your modules. **You can expect to lose marks for poor writing (incorrect grammar and spelling) as well as for poor mathematics (incorrect or unclear logic).**\n",
    "\n",
    "<div class=\"alert alert-block alert-danger\">\n",
    "    \n",
    "### Plagiarism warning:\n",
    "\n",
    "Your work will be tested for plagiarism, which is an assessment offence, according to the [School's policy on Plagiarism](https://qmplus.qmul.ac.uk/pluginfile.php/3467941/mod_resource/content/1/School%20of%20Mathematical%20Sciences%20UG%20Student%20Handbook%202022_23.pdf). In particular, while only academic staff will make a judgement on whether plagiarism has occurred in a piece of work, we will use the plagiarism detection software \"Turnitin\" to help us assess how much of work matches other sources. You will have the opportunity to upload your work, see the Turnitin result, and edit your work once accordingly before finalising your submission.\n",
    "\n",
    "\n",
    "However, you must use your own words as far as possible (within reason, e.g. you would not be expected to change the wording of a well-known theorem), and you **must** [reference](https://qmplus.qmul.ac.uk/pluginfile.php/3467941/mod_resource/content/1/School%20of%20Mathematical%20Sciences%20UG%20Student%20Handbook%202022_23.pdf) any sources that you use. You cannot communicate with other students on any part of the project. You should also note that some of the questions are personalised in the sense that you will need to import and manipulate data that will be unique to you (i.e. no other student will have the same data).\n",
    "\n",
    "\n",
    "\n",
    "\n",
    "\n"
   ]
  },
  {
   "cell_type": "markdown",
   "metadata": {},
   "source": [
    "---\n",
    "### Introduction to the Project\n",
    "\n",
    "Longest increasing subsequences appear in many areas across mathematics, computer science, and physics.\n",
    "This project will deal with algorithms for creating longest increasing subsequences of permutations of a set of $n$ numbers, their graphical representation, and some analysis of their structure with computational and graphical means.\n",
    "\n",
    "As Python indexing starts with zero, we will also start counting at zero and hence give the mathematical description in terms of the set of numbers $[n]=\\{0,1,\\ldots,n-1\\}$. \n",
    "\n",
    "For a given $n\\in\\mathbb N$, let $\\pi=(\\pi_0,\\pi_1,\\ldots,\\pi_{n-1})$ be a **permutation** of $[n]$, i.e., one of the $n!$ possible orderings of $[n]$.\n",
    "\n",
    "A sequence  $(\\pi_{i_0},\\pi_{i_1},\\ldots,\\pi_{i_{k-1}})$ is a **subsequence** of the permutation $\\pi$ if $0\\leq i_0<i_1<\\ldots<i_k<n$. \n",
    "\n",
    "A subsequence of the permutation $\\pi$ is **increasing** if $\\pi_{i_0}<\\pi_{i_1}<\\ldots<\\pi_{i_{k-1}}$. \n",
    "\n",
    "An increasing subsequence of the permutation $\\pi$ is **longest** if there is no other increasing subsequence with $k'>k$.\n",
    "\n",
    "For example, the increasing subsequences of the permutation $(0,2,1)$ are $()$, $(0)$, $(2)$, $(1)$, $(0,2)$, and $(0,1)$. Clearly $(0,2)$ and $(0,1)$ are longest, so the length of the longest increasing subsequence of $(0,2,1)$ is $2$. This example shows also that the longest increasing subsequence is not necessarily unique. "
   ]
  },
  {
   "cell_type": "markdown",
   "metadata": {},
   "source": [
    "---\n",
    "### Some code to get you started\n",
    "\n",
    "It is very easy to find code online to solve this problem. For example, the following function finds a longest increasing subsequence in a sequence of numbers:\n",
    "```python\n",
    "def find_length_of_longest_increasing_subsequence(pi):\n",
    "    n=len(pi) \n",
    "    l=n*[0]\n",
    "    for i in range(n):\n",
    "        for j in range(i):\n",
    "            if pi[j]<pi[i] and l[j]>l[i]:\n",
    "                l[i]=l[j]\n",
    "        l[i]=l[i]+1\n",
    "    return max(l+[0])\n",
    "```\n",
    "The same code in a codebox:"
   ]
  },
  {
   "cell_type": "code",
   "execution_count": 2,
   "metadata": {},
   "outputs": [],
   "source": [
    "def find_length_of_longest_increasing_subsequence(pi):\n",
    "    n=len(pi) \n",
    "    l=n*[0]\n",
    "    for i in range(n):\n",
    "        for j in range(i):\n",
    "            if pi[j]<pi[i] and l[j]>l[i]:\n",
    "                l[i]=l[j]\n",
    "        l[i]=l[i]+1\n",
    "    return max(l + [0])"
   ]
  },
  {
   "cell_type": "markdown",
   "metadata": {},
   "source": [
    "Applied to the example $(0,2,1)$ above we indeed get the right result."
   ]
  },
  {
   "cell_type": "code",
   "execution_count": 3,
   "metadata": {},
   "outputs": [
    {
     "name": "stdout",
     "output_type": "stream",
     "text": [
      "[0, 2, 1] 2\n"
     ]
    }
   ],
   "source": [
    "pi=[0, 2, 1]\n",
    "print(pi,find_length_of_longest_increasing_subsequence(pi))"
   ]
  },
  {
   "cell_type": "markdown",
   "metadata": {},
   "source": [
    "Three obvious cases to check are:"
   ]
  },
  {
   "cell_type": "code",
   "execution_count": 4,
   "metadata": {},
   "outputs": [
    {
     "name": "stdout",
     "output_type": "stream",
     "text": [
      "[] 0\n",
      "[0, 1, 2, 3, 4, 5] 6\n",
      "[5, 4, 3, 2, 1, 0] 1\n"
     ]
    }
   ],
   "source": [
    "pi=[]\n",
    "print(pi,find_length_of_longest_increasing_subsequence(pi))\n",
    "pi=list(range(6))\n",
    "print(pi,find_length_of_longest_increasing_subsequence(pi))\n",
    "pi=pi[::-1]\n",
    "print(pi,find_length_of_longest_increasing_subsequence(pi))"
   ]
  },
  {
   "attachments": {
    "image-3.png": {
     "image/png": "[encoded data removed]"
    }
   },
   "cell_type": "markdown",
   "metadata": {},
   "source": [
    "---\n",
    "### Plotting Permutations\n",
    "\n",
    "An easy way to visualise permutations is to consider them as $n$ points $(i,\\pi_i)$ on the $[n]^2$-grid. For example, the permutation $(3,1,6,4,9,7,8,2,0,5)$ is represented by the following picture, with the permutation shown in red and a longest increasing subsequence shown in blue (there are three others, can you find them?).\n",
    "![image-3.png](attachment:image-3.png)\n"
   ]
  },
  {
   "attachments": {},
   "cell_type": "markdown",
   "metadata": {},
   "source": [
    "---\n",
    "### The structure of the Project\n",
    "\n",
    "This project consists of **4 parts**. In each of the parts you will need to code up some specific functions, run some code, and respond to some questions. Recall that all code needs to be properly documented with `# comments`, and the explanations in these comments will indeed be assessed and you will receive lots of marks for adequate documentation. \n",
    "\n",
    "\n",
    "\n",
    "* The **first part** (worth 35 marks) asks you to explain given Python code to compute longest increasing subsequences and analyse its complexity.\n",
    "\n",
    "* The **second part** (worth 30 marks) asks you to write code to find all longest increasing subsequences.\n",
    "\n",
    "* The **third part** (worth 20 marks) asks you to analyse longest increasing subsequences for one specifically given permutation.\n",
    "\n",
    "* The **fourth part** (worth 15 marks) asks you to modify your code for a slight variation on the problem.\n",
    "---"
   ]
  },
  {
   "cell_type": "markdown",
   "metadata": {},
   "source": [
    "The following code box is used to load any necessary modules. \n",
    "\n",
    "**You may not import any other modules, except for the `project` module, which we introduce in Part 3.**"
   ]
  },
  {
   "cell_type": "code",
   "execution_count": 5,
   "metadata": {},
   "outputs": [],
   "source": [
    "#DO NOT CHANGE THE CONTENT OF THIS CODE BOX\n",
    "import matplotlib.pyplot as plt\n",
    "import numpy as np\n",
    "from timeit import timeit\n",
    "from itertools import permutations"
   ]
  },
  {
   "cell_type": "markdown",
   "metadata": {
    "collapsed": true
   },
   "source": [
    "# Part 1: Analysis of given code  [35 marks total]\n",
    "\n",
    "***\n",
    "\n",
    "<div class=\"alert alert-block alert-danger\">\n",
    "    \n",
    "Please remember to write plenty of `# comments` in the code cells. Mark scheme is depicted in each question. 50% of the marks will go to assess the actual code, and 50% of the marks will go to assess the `# comments`. Remember also to **reference** any sources you used. If you used any code or coding ideas you found elsewhere, you are encouraged to do that in the `# comments`.\n"
   ]
  },
  {
   "attachments": {},
   "cell_type": "markdown",
   "metadata": {},
   "source": [
    "---\n",
    "**[1.1] [10 marks]** Explain in detail how the function `find_length_of_longest_increasing_subsequence` works. More specifically:\n",
    "- Which data types would be accepted by the function for the argument `pi`?\n",
    "- What does the function return? What data type is it?\n",
    "- Explain the purpose of the variable `l`.\n",
    "- Explain what precisely is being computed in the nested loop involving the parameters `i` and `j`. What is the meaning of `pi[j]<pi[i]` and `l[j]>l[i]`?\n",
    "- Why did I choose to write `max(l+[0])` and not `max(l)`? *Hint: consider what happens when the function is called with an empty list.*\n",
    "- Does `find_length_of_longest_increasing_subsequence(\"computer\")` work? Why? What does the output mean?\n",
    "---\n",
    "## Answer 1.1\n",
    "* For the function to run as expected, the argument `pi` should be an iterable such that is subscriptable in an appropiate format. For instance arrays, strings, tuples or dictionaries in a sensitive format could be accepted and return the expected output. For instance, suppose we have $n\\in\\mathbb N$, and $\\pi=(\\pi_0,\\pi_1,\\ldots,\\pi_{n-1})$ where $\\pi$ is a permutation of $[n]$\n",
    "    - A string in the form: `pi` = \"$\\pi_0\\pi_1...\\pi_{n-1}$\" would return the expected output.\n",
    "    - A list in the form: `pi` = [$\\pi_0, \\pi_1, ..., \\pi_{n-1}$] would return the expected output.\n",
    "    - A tuple in the form: `pi` = ($\\pi_0, \\pi_1, ..., \\pi_{n-1}$) would return the expected output.\n",
    "    - A dictionary in the form: `pi` = {0: $\\pi_0$, 1: $\\pi_1$, ..., n-1: $\\pi_{n-1}$} would return the expected output. \n",
    "    - Any other non-subscriptable iterable such as a set or any other data type that is not an iterable such as an integer will raise a Type Error. Any of these data types listed above in a different format will most likely give an unexpected output. Other subscriptable data types would need to be examined independently.\n",
    "* The data type returned will always be an integer greater than or equal to 0. This is because the return value will be the return value of the max() function that receives a non-empty list of integers bigger than or equal to 0 (assuming that the `pi` input is of appropiate data type and format). The function returns the max value of `l` or 0 if it is empty (`l` has only non-negative integers).\n",
    "* Each ith element of `l` maps to the length of the longest strictly increasing subsequence from $\\pi_0$ to $\\pi_i$ containing $\\pi_i$. For intance, if we have the sequence `pi` = [4, 5, 3, 8, 1, 9, 7, 2, 6], we will have `l[0]` = 1 as the longest strictly increasing subsequence of $(4)$ is $(4)$ of length 1. `l[1]` = 2 as the longest subsequence is $(4, 5)$ but `l[2]` = 1 as the longest strictly increasing subsequence of $(4, 5, 3)$ is still $(4, 5)$, but the longest of these subsequences containing $3$ is just $(3)$.\n",
    "* The outer loop goes through each entry in pi and the inner loop goes through each entry from 0 to the current ith entry of pi. The conditional with `pi[j]<pi[i]` and `l[j]>l[i]` in the inner loop, will compare each of the previous terms with the new ith entry and check if the new entry is greater than each of them. For each time the new entry is greater than a previous term, then it will check which increasing subsequence of smaller, previous terms is bigger, and it will associate the new ith term to that subsequence. When the inner loop finishes executing, the length of the subsequence associated to the ith term will increase by one (as it was only counting the length of the subsequence up to the previous, smaller terms, and it needs to address the new term).\n",
    "* `max(l+[0])` and not `max(l)` because if pi is empty, for instance if `pi` = [], then it will still be a permutation of $[0]$. By definition, the empty set can only be ordered one way, but as it has no subsequences, then the longest subsequence is of length 0. However, if it weren't `max(l+[0])` and it was just `max([])`, the input `pi` = []  would give a ValueError but the input is an expected input (as the permutation of [0] exists). This problem is easily solved with `max(l+[0])` and it will not change the output when $n>0$ as the shortest strictly increasing subsequence will be of length at least 1. This is due to the fact that if  $n>0$, then `pi` contains at least a term and one of the increasing subsequences would be this term $\\pi_l$. \n",
    "* If we associate each lowercase letter to a number, in such a way that it coincides with their position in the English Alphabet, then the output of `find_length_of_longest_increasing_subsequence(\"computer\")` is correct. It considers the length of one of the longest subsequence (like `\"cmpr\"`) and returns its length (`4`). If, however, we consider that the output of `\"ComPUTer\"` should be the same, then the code doesn't return the same as `\"computer\"`, and so the code should be modified. If we also consider non-English characters such as `\"ñ\"` the code won't work as expected for some inputs. If we restrict the input to English lower case characters, then the code works as expected for this input (such as the `\"computer\"`). However if we are expecting for an error to be raised, because we are not considering lowercase strings as types of permutation, then the output is not correct. For this reason, depending in the situation, the output for `\"computer\"` could be correct or incorrect depending on the context where the code is needed. \n",
    "---\n"
   ]
  },
  {
   "cell_type": "markdown",
   "metadata": {},
   "source": [
    "---\n",
    "**[1.2] [5 marks]** Now write a well-documented version of the function `find_length_of_longest_increasing_subsequence`. Add a document string and plenty of comments, but do not change the code itself.\n",
    "\n",
    "---"
   ]
  },
  {
   "cell_type": "code",
   "execution_count": 6,
   "metadata": {
    "scrolled": false
   },
   "outputs": [],
   "source": [
    "def find_length_of_longest_increasing_subsequence(pi):\n",
    "    \"\"\"\n",
    "    Given a permutation of [n] called pi, return the longest possible length of strictly increasing subsequences of pi.\n",
    "    If pi is empty, return 0.\n",
    "    \"\"\"\n",
    "    #instantiate n as a variable containing the length of pi\n",
    "    n=len(pi) \n",
    "    #Instantiate l as a list of the same length as pi containing 0's in each entry\n",
    "    l=n*[0]\n",
    "    #loop through each entry in pi\n",
    "    for i in range(n):\n",
    "        #loop through each entry from 0 to the current ith entry of pi\n",
    "        for j in range(i):\n",
    "            #compare the current entry of pi with the previous entries of pi, together with the longest subsequence associated to each of the previous entries\n",
    "            if pi[j]<pi[i] and l[j]>l[i]:\n",
    "                #If the new entry is bigger than the jth previous entry, and the associated subsequence of the jth entry is longer than the current longest subsequence associated with the ith entry, replace with the new longest subsequence that will now be associated to the ith entry\n",
    "                l[i]=l[j]\n",
    "        #the longest subsequence from 0 to ith containing the ith entry will have the length of the previous longest subsequence, and so we are adding 1 accounting for the new added value\n",
    "        l[i]=l[i]+1\n",
    "    #return the max value of the longest subsequence associated to each term or 0 if pi is empty.\n",
    "    return max(l+[0])"
   ]
  },
  {
   "cell_type": "markdown",
   "metadata": {},
   "source": [
    "---\n",
    "**[1.3] [5 marks]** What can you say about the computational complexity of `find_length_of_longest_increasing_subsequence`? Discuss how run time and memory requirement grow as the length $n$ of the permutation increases.\n",
    "\n",
    "---"
   ]
  },
  {
   "attachments": {},
   "cell_type": "markdown",
   "metadata": {},
   "source": [
    "The run time complexity is of O($n^2$). This means that the run time will be directly proportional to the square of the size of the input.\n",
    "* Reasoning: I am going to start from the inside of the two loops and expand from this. Firstly we have:\n",
    "    <pre><code>\n",
    "        if pi[j]<pi[i] and l[j]>l[i]:\n",
    "            l[i]=l[j]\n",
    "    </code></pre>\n",
    "    This has run time complexity of O($1$). Firstly because accessing a list in python from its ith element is constant. This is due to the fact that, for instance `pi[j]`, is a pointer that directly accesses the location of its element in memory. Comparing elements is obviously also independent of input size.\n",
    "    Now if we add:\n",
    "    <pre><code>\n",
    "    for i in range(n):\n",
    "        for j in range(i):\n",
    "            if pi[j]<pi[i] and l[j]>l[i]:\n",
    "                l[i]=l[j]\n",
    "        l[i]=l[i]+1\n",
    "    </code></pre> \n",
    "    \n",
    "    The first loop is directly proportional to the size of the input $n$. It increases linearly, as an input of size $n$ would entail $n$ iterations, an input of size $n+1$ would entail $n+1$ iterations and so on. (Remember that $n$ directly references the size of the input as `n = len(pi)`). However, as we have a for loop inside the outer loop, then an input of size $n$ would entail that for each of the $n$ iterations, say iteration $i$, there would be $i-1$ iterations. Hence the run time of the loops would be proportional to $n\\sum_{i=1}^{n-1}{i}+(n-1)\\sum_{i=1}^{n-2}{i}+...+1+0$. Furthermore, $deg(n\\sum_{i=1}^{n-1}{i}+(n-1)\\sum_{i=1}^{n-2}{i}+...+1+0) = 2$ and so the run time increases proportionally to this polynomial of $n$ which has $\\lambda n^2$ as the leading coefficient and where $\\lambda \\in \\mathbb{R}$. As the $n^2$ term makes the other negligible in big O notation, then this algorithm has O($n^2$). (I got help from this source https://en.wikipedia.org/wiki/Big_O_notation when deciding what happened with the leftover $\\lambda$).\n",
    "\n",
    "    On the other hand, the \"worst case\" and \"best case\" scenarios have the same run time complexity. This is because the number of iterations don't depend on the content of the input, but just the length of it. For instance if the sequence is $(0,1,2,3,4,5,...,n)$ or the sequence is $(n, n-1, ..., 2,1,0)$, even if the max length is trivial for both cases, the input will run the same amount of times for both of these cases. It will also run the same amount of times if the input is in total disarray but still of size $n$.\n",
    "\n",
    "    For the rest of the code, as `len` over python built-ins has run time of O($1$), `max` has run time of O($n$) and `l=n*[0]` has run time of O($n$) and so these run times become negligible when compared with the code of run time O($n^2$). (Source: https://wiki.python.org/moin/TimeComplexity)\n",
    " \n",
    "The space complexity of this code is of O($n$). \n",
    "* Reasoning: The only auxiliary memory being used is for `l` and for `n`. `l` has exactly the length $n$, so it uses the same memory space as the input and `n` uses constant memory space as it is just saving the length of the input. Hence the space used is linearly proportional to the input.\n",
    " \n",
    "    "
   ]
  },
  {
   "attachments": {},
   "cell_type": "markdown",
   "metadata": {},
   "source": [
    "I have studies complexity before, but I think it is been one of my weakest subjects, and for this I got help from the following blog because I always found it hard to explain complexity of algorithms. https://www.enjoyalgorithms.com/blog/time-complexity-analysis-of-loop-in-programming"
   ]
  },
  {
   "cell_type": "markdown",
   "metadata": {},
   "source": [
    "---\n",
    "**[1.4] [5 marks]**  `numpy` has functionality that allows you to generate random permutations, and `timeit` (imported above) allows you to compute the time a function call takes. Verify your answer about the time complexity from the previous question by computing the run time for randomly chosen permutations and a suitable range of lengths and producing an appropriate plot of the run times against the lengths of the permutations.\n",
    "\n",
    "---"
   ]
  },
  {
   "cell_type": "code",
   "execution_count": 7,
   "metadata": {},
   "outputs": [
    {
     "data": {
      "image/png": "[encoded data removed]",
      "text/plain": [
       "<Figure size 640x480 with 1 Axes>"
      ]
     },
     "metadata": {},
     "output_type": "display_data"
    }
   ],
   "source": [
    "#generating the x axis that contains the permutations from 0 to 1000\n",
    "#the largest permutation size to be computed. If it is taking unacceptably long, please decrease this number\n",
    "maxPermutation = 1000\n",
    "#would have set a bigger range end but the function raises an error for large values of x[i]\n",
    "x = [i for i in range(0,maxPermutation, 5)]\n",
    "#make random permutations for each value of x\n",
    "#used this reference: https://numpy.org/doc/stable/reference/generated/numpy.array2string.html to make a string that can properly be interpreted as an array inside the timeit function\n",
    "permutationsOfX = [np.array2string(np.random.permutation(i), separator=\", \") for i in x]\n",
    "#using the timeit function to generate the y axis of times taken for the function to run depending on permutation size\n",
    "# I used the following resources: https://docs.python.org/3/library/timeit.html, https://www.geeksforgeeks.org/timeit-python-examples/\n",
    "y = [timeit(setup=\"from __main__ import find_length_of_longest_increasing_subsequence\", stmt=\"find_length_of_longest_increasing_subsequence(\"+p+\")\", number=10) for p in permutationsOfX]\n",
    "\n",
    "#setting the x-axis and y-axis labels to appropiate values\n",
    "plt.xlabel(\"permutation size\") \n",
    "plt.ylabel(\"time taken for function to run 10 times\")\n",
    "#plotting using a line graph of permutation size against time \n",
    "plt.plot(x, y)\n",
    "plt.show()\n",
    "\n",
    "#We can see that the plot has a \"half-bell\" shape, comparable to the graph of x^2, as, if the input is of size n (permutation size), the run time is proportional to O(n^2).\n",
    "\n",
    "#The plot is not \"smooth\" as it should ideally be. \n",
    "#It is to my understanding that this is due to the task scheduler in each computer giving different priorities to different processes in the computer while the output is running. It can also be due to variable processing times due to factors I'm not fully aware of.\n",
    "#It can also due to the different times it takes to access different memory spaces.\n",
    "#If I understand correctly, in an \"ideal\" wordl where we had a computer dedicated solely to running this algorithm, that accessed memory spaces in equal times, the plot should be smooth.\n",
    "#The plot should be smooth partly because the time iterations for different permutations, don't depend on the content of these permutations, but only in the length of these permutations, as explained in the previous exercise.\n",
    "#In different operating systems, or with computers running less tasks in the background, or with more cores in the processor the plot might be more \"smooth\" \"\"\"\n",
    "\n",
    "\n",
    "#this took 20 - 25 seconds to compute in my computer. If it is taking too long, please decrease the value in maxPermutation"
   ]
  },
  {
   "cell_type": "markdown",
   "metadata": {},
   "source": [
    "---\n",
    "**[1.5] [5 marks]**  Now that you understand the code well, here's an alternative function written by some crazy python programmer who has been using recursion, lambda functions, enumerate, and list comprehension.\n",
    "```python\n",
    "def find_length_of_longest_increasing_subsequence_alternative(pi):\n",
    "    aux=lambda psi:[] if len(psi)==0 else \\\n",
    "                     (lambda _:_+[1+max([0]+[k for j,k in enumerate(_) if psi[j]<psi[-1]])])(aux(psi[:-1]))\n",
    "    return 0 if len(pi)==0 else max(aux(pi))\n",
    "```\n",
    "Explain how recursion is used here.\n",
    "\n",
    "---"
   ]
  },
  {
   "cell_type": "code",
   "execution_count": 27,
   "metadata": {},
   "outputs": [
    {
     "name": "stdout",
     "output_type": "stream",
     "text": [
      "4\n"
     ]
    }
   ],
   "source": [
    "#To understand this code, I am going to first try and make it legible for me to understand and for explaining it step by step later.\n",
    "#I understand that this might not be the idea of this exercise. However, as we were asked to show our working, this is how I would have approached this exercise either way, as I would have written this function in another jupyter notebook to be able to explain what the original alternative function was doing.\n",
    "#Regardless, I will still explain later based on the original function given, after having understood thoroughly what was happening. I am only using this as \"rough work\".\n",
    "\n",
    "#different function to the one that was given to us that does exactly the same in terms of output and computations.\n",
    "def find_length_of_longest_increasing_subsequence_alternative(pi):\n",
    "    #aux will be doing the same as the aux in the original recursive function.\n",
    "    def aux(psi):\n",
    "        #base case that does the same as the base case in the aux function\n",
    "        if (len(psi) == 0):\n",
    "            #Initialises the list that will act as the list l in our original function\n",
    "            return []\n",
    "        else:\n",
    "            #will act as the lambda funtion that used to take \"_\" as input. In reality it takes as input an l list that has the same prupose as the l list in the original non-recursive function.\n",
    "            def auxOfLambda(l):\n",
    "                #iterable of list l matching the index of each sequence element with the length of the longest increasing subsequence up to this element and that contains this element.\n",
    "                enumeratedSequence = enumerate(l)\n",
    "                #list of possible longest increasing subsequences up to the element we are currently looking at (psi[-1] almost equivalent to the p[i] from before)\n",
    "                possibleLongestLengths = [0]\n",
    "                #acts as the inner-loop in the original non-recursive function as it iterates up to the current sequence element that we are looking at\n",
    "                for enumeratedElement in enumeratedSequence:\n",
    "                    #j and k in the original recursive function, j being the index of the sequence element we are looking at and k being the length of the longest increasing subsequence containing this element, and up to this element\n",
    "                    elementIndex = enumeratedElement[0]\n",
    "                    elementVal = enumeratedElement[1]\n",
    "                    #psi[-1] has the same role as p[i] from the original non-recursive function. If a previous element is smaller than the current element p[i] we are looking at, then add this possible longest length to the list\n",
    "                    if (psi[elementIndex] < psi[-1]):\n",
    "                        possibleLongestLengths = possibleLongestLengths + [elementVal]\n",
    "                #Get the longest length of possible valid lengths, add one to it (accounting to the element psi[-1]), and append it to l\n",
    "                #This new entry of l will contain the longest increasing subsequence containing the element psi[-1]\n",
    "                l = l + [1 + max(possibleLongestLengths)]\n",
    "                #return updated l list accounting for new element psi[-1]\n",
    "                return l\n",
    "            #When the cutting of psi reaches an empty subsequence, it will call auxOfLambda over itself starting from an empty list with psi being empty\n",
    "            #Afterwards, auxOfLambda is being called again with the same subsequence of psi as before, but with one more element at the end, and returning an updated l list which the next auxOfLambda receives as input. \n",
    "            #The variable psi that auxOfLambda uses, is each time added another entry which is used to update l\n",
    "            return auxOfLambda(aux(psi[:-1]))\n",
    "    return 0 if len(pi) == 0 else max(aux(pi))\n",
    "print(find_length_of_longest_increasing_subsequence_alternative(\"0134\"))\n",
    "                "
   ]
  },
  {
   "cell_type": "code",
   "execution_count": null,
   "metadata": {},
   "outputs": [],
   "source": []
  },
  {
   "cell_type": "markdown",
   "metadata": {},
   "source": [
    "---\n",
    "**[1.6] [5 marks]**  Compare the time complexity of `find_length_of_longest_increasing_subsequence` and `find_length_of_longest_increasing_subsequence_alternative`, using appropriate permutation lengths.\n"
   ]
  },
  {
   "cell_type": "code",
   "execution_count": null,
   "metadata": {},
   "outputs": [],
   "source": []
  },
  {
   "cell_type": "markdown",
   "metadata": {},
   "source": []
  },
  {
   "cell_type": "markdown",
   "metadata": {},
   "source": [
    "\n",
    "# Part 2: Find all longest increasing subsequences [30 marks total]\n",
    "*** ***\n",
    "\n",
    "<div class=\"alert alert-block alert-danger\">\n",
    "    \n",
    "Please remember to write plenty of `# comments` in the code cells. Mark scheme is depicted in each question. 50% of the marks will go to assess the actual code, and 50% of the marks will go to assess the `# comments`. Remember also to **reference** any sources you used. If you used any code or coding ideas you found elsewhere, you are encouraged to do that in the `# comments`.\n",
    "\n",
    "\n"
   ]
  },
  {
   "cell_type": "markdown",
   "metadata": {},
   "source": [
    "---\n",
    "**[2.1] [15 marks]** The code in Part 1 only gives the length of the longest increasing subsequence for a given permutation. Moreover, we have seen above that the largest increasing subsequence need not be unique.\n",
    "\n",
    "By using the existing code for `find_length_of_longest_increasing_subsequence(pi)`, **and not otherwise**, write a function `find_all_longest_increasing_subsequences(pi)` that gives out all of them for a given `pi`.\n",
    "\n",
    "The output should be in the form of a list of lists, i.e. `[sequence1, sequence2, ...]`, where each entry is a longest increasing subsequence.\n",
    "\n",
    "Test this function on `[]`, `[0,2,1]`, `[0,1,2,3,4,5]`, `[5,4,3,2,1]`, and `\"computer\"`.\n",
    "\n",
    "---"
   ]
  },
  {
   "cell_type": "code",
   "execution_count": null,
   "metadata": {},
   "outputs": [],
   "source": []
  },
  {
   "cell_type": "markdown",
   "metadata": {},
   "source": [
    "---\n",
    "**Note:** if you could not complete Q2.1 and write a working function `find_all_longest_increasing_subsequences`, you are allowed to use other code you found to work on subsequent questions, provided you provide a complete reference."
   ]
  },
  {
   "cell_type": "markdown",
   "metadata": {},
   "source": [
    "---\n",
    "**[2.2] [10 marks]** Among permutations of fixed size, there are many with several longest increasing subsequences. Find all permutations $\\pi$ of length $10$ with the largest number of different longest increasing subsequences. How many permutations $\\pi$ have you found, and how many different longest increasing subsequences do they each have? Print each of these permutations along with their longest increasing subsequences.\n",
    "\n",
    "You are allowed to use generate permutations using `itertools.permutation` (imported above) as follows.\n",
    "```python\n",
    "perms=permutations(range(10))\n",
    "for p in perms:\n",
    "    ...\n",
    "    ...\n",
    "```\n",
    "---"
   ]
  },
  {
   "cell_type": "code",
   "execution_count": null,
   "metadata": {
    "scrolled": false
   },
   "outputs": [],
   "source": []
  },
  {
   "cell_type": "markdown",
   "metadata": {},
   "source": [
    "---\n",
    "**[2.3] [5 marks]** As you should now have seen, there are many different questions one could ask about the properties of longest increasing subsequences. We shall finish this part by looking at \"typical\" lengths for large random permutations.\n",
    "\n",
    "Generate $10000$ random permutations of size $100$, compute the lengths of their longest increasing subsequences and display them in a suitable histogram, making sure that each bin corresponds precisely to one single length.\n",
    "\n",
    "---"
   ]
  },
  {
   "cell_type": "code",
   "execution_count": null,
   "metadata": {},
   "outputs": [],
   "source": []
  },
  {
   "cell_type": "markdown",
   "metadata": {},
   "source": [
    "\n",
    "# Part 3: Visualising longest increasing subsequences [20 marks total]\n",
    "*** ***\n",
    "\n",
    "<div class=\"alert alert-block alert-danger\">\n",
    "    \n",
    "Please remember to write plenty of `# comments` in the code cells. Mark scheme is depicted in each question. 50% of the marks will go to assess the actual code, and 50% of the marks will go to assess the `# comments`. Remember also to **reference** any sources you used. If you used any code or coding ideas you found elsewhere, you are encouraged to do that in the `# comments`.\n",
    "\n",
    "\n"
   ]
  },
  {
   "cell_type": "markdown",
   "metadata": {},
   "source": [
    "You have been provided with a Python file called **\"project.py\"** on QMPlus, which you should **save in the same directory as this Jupyter notebook**.\n",
    "This file contains a function `create_permutation()` which creates a permutation for you, based on your student id. (This will look random, but will be unique to you, i.e. no two students will have the same permutation to work with.) In this section, you will analyse this permutation."
   ]
  },
  {
   "cell_type": "markdown",
   "metadata": {},
   "source": [
    "**[3.1] [5 marks]** Execute the following code cell to create your permutation. You **must** replace the number \"123456789\" with your 9-digit student number. \n",
    "\n",
    "*Important note.* This question essentially gives you 5 free marks for typing your student ID correctly. If you do not do this correctly, you will score zero for this part, and if you instead use another student's ID, then your submission will be reviewed for plagiarism."
   ]
  },
  {
   "cell_type": "code",
   "execution_count": 9,
   "metadata": {},
   "outputs": [
    {
     "ename": "ModuleNotFoundError",
     "evalue": "No module named 'project'",
     "output_type": "error",
     "traceback": [
      "\u001b[1;31m---------------------------------------------------------------------------\u001b[0m",
      "\u001b[1;31mModuleNotFoundError\u001b[0m                       Traceback (most recent call last)",
      "\u001b[1;32m~\\AppData\\Local\\Temp\\ipykernel_15764\\3394676233.py\u001b[0m in \u001b[0;36m<module>\u001b[1;34m\u001b[0m\n\u001b[1;32m----> 1\u001b[1;33m \u001b[1;32mfrom\u001b[0m \u001b[0mproject\u001b[0m \u001b[1;32mimport\u001b[0m \u001b[0mcreate_permutation\u001b[0m\u001b[1;33m\u001b[0m\u001b[1;33m\u001b[0m\u001b[0m\n\u001b[0m\u001b[0;32m      2\u001b[0m \u001b[1;33m\u001b[0m\u001b[0m\n\u001b[0;32m      3\u001b[0m \u001b[1;31m# Replace \"123456789\" below with your 9-digit student number\u001b[0m\u001b[1;33m\u001b[0m\u001b[1;33m\u001b[0m\u001b[0m\n\u001b[0;32m      4\u001b[0m \u001b[1;33m\u001b[0m\u001b[0m\n\u001b[0;32m      5\u001b[0m \u001b[0mmy_permutation\u001b[0m\u001b[1;33m=\u001b[0m\u001b[0mcreate_permutation\u001b[0m\u001b[1;33m(\u001b[0m\u001b[1;36m123456789\u001b[0m\u001b[1;33m)\u001b[0m\u001b[1;33m\u001b[0m\u001b[1;33m\u001b[0m\u001b[0m\n",
      "\u001b[1;31mModuleNotFoundError\u001b[0m: No module named 'project'"
     ]
    }
   ],
   "source": [
    "from project import create_permutation\n",
    "\n",
    "# Replace \"123456789\" below with your 9-digit student number\n",
    "\n",
    "my_permutation=create_permutation(123456789)\n",
    "\n",
    "# Replace \"123456789\" above with your 9-digit student number"
   ]
  },
  {
   "cell_type": "markdown",
   "metadata": {},
   "source": [
    "---\n",
    "**[3.2] [5 marks]** As described in the introduction above, a permutation $\\pi$ can be visualised using the points $(i,\\pi_i)$. Plot your permutation (choosing an appropriate marker size!), and describe what you see. How large is your permutation?\n",
    "\n",
    "---\n"
   ]
  },
  {
   "cell_type": "code",
   "execution_count": null,
   "metadata": {
    "scrolled": false
   },
   "outputs": [],
   "source": []
  },
  {
   "cell_type": "markdown",
   "metadata": {},
   "source": []
  },
  {
   "cell_type": "markdown",
   "metadata": {},
   "source": [
    "---\n",
    "**[3.3] [5 marks]** How long is the longest increasing subsequence? How many are there?\n",
    "\n",
    "You will notice that it might take a minute or two to compute all those subsequences. Be patient...\n",
    "\n",
    "---\n",
    "**Note:** if you could not complete Q2.1 and write a working function `find_all_longest_increasing_subsequences`, you are allowed to use other code you found, provided you provide a complete reference.\n",
    "\n",
    "---\n"
   ]
  },
  {
   "cell_type": "code",
   "execution_count": null,
   "metadata": {},
   "outputs": [],
   "source": []
  },
  {
   "cell_type": "markdown",
   "metadata": {},
   "source": [
    "---\n",
    "**[3.4] [5 marks]** Now that you have found all longest increasing subsequences, display these together with the permutation in a figure. What do you notice?\n",
    "\n",
    "---\n"
   ]
  },
  {
   "cell_type": "code",
   "execution_count": null,
   "metadata": {},
   "outputs": [],
   "source": []
  },
  {
   "cell_type": "markdown",
   "metadata": {},
   "source": []
  },
  {
   "cell_type": "markdown",
   "metadata": {},
   "source": [
    "\n",
    "# Part 4: Longest Increasing Shifted Subsequences [15 marks total]\n",
    "*** ***\n",
    "\n",
    "<div class=\"alert alert-block alert-danger\">\n",
    "    \n",
    "Please remember to write plenty of `# comments` in the code cells. Mark scheme is depicted in each question. 50% of the marks will go to assess the actual code, and 50% of the marks will go to assess the `# comments`. Remember also to **reference** any sources you used. If you used any code or coding ideas you found elsewhere, you are encouraged to do that in the `# comments`.\n"
   ]
  },
  {
   "cell_type": "markdown",
   "metadata": {},
   "source": [
    "We conclude with a modification of our original problem.  For any $n\\in\\mathbb{N}$, let $\\tau_n$ be the permutation of $[n]$ given by\n",
    "\n",
    "$$\\tau_n=(1,\\,2,\\,\\ldots,\\,n-1,\\,0) \\;. $$\n",
    "\n",
    "Right-multiplying a permutation by $\\tau_n$ has the effect of shifting the elements left by one place (with the first element being cycled back around to the end).  For example, if we have $n=5$, then\n",
    "\n",
    "$$(2,\\,4,\\,3,\\,1,\\,0)\\cdot\\tau_5=(4,\\,3,\\,1,\\,0,\\,2)\\;.$$\n",
    "\n",
    "Let $\\pi$ be a permutation of length $n$.  We call a sequence a **longest increasing shifted subsequence (LISS)** of $\\pi$ if it is a longest increasing subsequence of all permutations of the form $\\pi\\cdot\\tau_n^m$, where $m\\in\\mathbb{N}$. Clearly after shifting $n$ times we have come full circle, so $\\pi\\cdot\\tau_n^n=\\pi$.\n",
    "\n",
    "Returning to the example above, we see that $(0,\\,2,\\,4)$ is a LISS of the permutation $(2,\\,4,\\,3,\\,1,\\,0)$, since it is a longest increasing subsequence of $(2,\\,4,\\,3,\\,1,\\,0)\\cdot\\tau_5^2$."
   ]
  },
  {
   "cell_type": "markdown",
   "metadata": {},
   "source": [
    "---\n",
    "**[4.1] [5 marks]**  Let `pi` be a permutation of $[n]$, for some $n\\in\\mathbb{N}$, written in the form of a Python list.  Write a function `find_all_LISSes` that accepts such an input `pi`, and returns a list of every LISS of this permutation.\n",
    "\n",
    "Once this is done, use this function to compute the LISSes of the permutation `[2,4,3,1,0]`, and compare these with its longest increasing subsequences.\n",
    "\n",
    "**Hint:** Your function may use the function `find_all_longest_increasing_subsequences` that has already been defined above.  There is no need to re-write this code."
   ]
  },
  {
   "cell_type": "markdown",
   "metadata": {},
   "source": [
    "---\n",
    "**Note:** if you could not complete Q2.1 and write a working function `find_all_longest_increasing_subsequences`, you are allowed to use other code you found, provided you provide a complete reference.\n",
    "\n",
    "---"
   ]
  },
  {
   "cell_type": "code",
   "execution_count": null,
   "metadata": {},
   "outputs": [],
   "source": []
  },
  {
   "cell_type": "markdown",
   "metadata": {},
   "source": [
    "You should find that the length of the LISSes of `[2,4,3,1,0]` is three, while the length of the longest increasing subsequences of `[2,4,3,1,0]` is only two.  It should be clear from the definition that the length of the LISSes of a permutation will always be longer than the length of its longest increasing subsequences.\n",
    "\n",
    "Note however, that we if we were to evaluate the LISSes of `[4,3,1,0,2]`, we would get identical results.  This is because the LISSes of a permutation are invariant under shifts.  The same is not true for longest increasing subsequences, which vary each time the permutation is shifted.  Indeed, if we left-shift twice, the set of LISSes and longest increasing subsequences would now coincide.\n",
    "\n",
    "This means that if we were to consider the ratio of the length of the LISSes with the length of the longest increasing subsequences, we would have reduced it from $1.5$ to $1$.  This brings us to our next question."
   ]
  },
  {
   "cell_type": "markdown",
   "metadata": {},
   "source": [
    "---\n",
    "**[4.2] [5 marks]**  Take the permutation `my_permutation` that you constructed in Q3.1, and determine how many places you must shift by in order to minimise the length of the longest increasing subsequence.\n",
    "\n",
    "Once this is done, perform this shift, and label the result `shifted_permutation`.\n",
    "\n",
    "Note that `shifted_permutation` will have a maximal ratio between the length of its LISSes to the length of its longest increasing subsequences.\n",
    "\n",
    "---"
   ]
  },
  {
   "cell_type": "code",
   "execution_count": null,
   "metadata": {},
   "outputs": [],
   "source": []
  },
  {
   "cell_type": "markdown",
   "metadata": {},
   "source": [
    "---\n",
    "\n",
    "**[4.3] [5 marks]**  Replot the figure from Q3.4 with this new shifted permutation.  Your plot should now highlight the LISSes of your permutation, rather than the longest increasing subsequences.  Explain how the behaviour of the LISSes differs from the behaviour of the longest increasing subsequences.\n",
    "\n",
    "---"
   ]
  },
  {
   "cell_type": "code",
   "execution_count": null,
   "metadata": {},
   "outputs": [],
   "source": []
  },
  {
   "cell_type": "markdown",
   "metadata": {},
   "source": []
  }
 ],
 "metadata": {
  "kernelspec": {
   "display_name": "Python 3 (ipykernel)",
   "language": "python",
   "name": "python3"
  },
  "language_info": {
   "codemirror_mode": {
    "name": "ipython",
    "version": 3
   },
   "file_extension": ".py",
   "mimetype": "text/x-python",
   "name": "python",
   "nbconvert_exporter": "python",
   "pygments_lexer": "ipython3",
   "version": "3.9.13"
  }
 },
 "nbformat": 4,
 "nbformat_minor": 2
}
